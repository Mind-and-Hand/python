{
 "cells": [
  {
   "cell_type": "markdown",
   "metadata": {},
   "source": [
    "# 第4章 NumPy基础：数组和矢量"
   ]
  },
  {
   "cell_type": "markdown",
   "metadata": {},
   "source": [
    "## 比较numpy数组和Python列表的性能差"
   ]
  },
  {
   "cell_type": "code",
   "execution_count": 4,
   "metadata": {},
   "outputs": [],
   "source": [
    "import numpy as np"
   ]
  },
  {
   "cell_type": "code",
   "execution_count": 5,
   "metadata": {},
   "outputs": [],
   "source": [
    "my_arr=np.arange(1000000)"
   ]
  },
  {
   "cell_type": "code",
   "execution_count": 6,
   "metadata": {},
   "outputs": [],
   "source": [
    "my_list=list(range(1000000))"
   ]
  },
  {
   "cell_type": "code",
   "execution_count": 8,
   "metadata": {},
   "outputs": [
    {
     "name": "stdout",
     "output_type": "stream",
     "text": [
      "21.9 ms ± 1.23 ms per loop (mean ± std. dev. of 7 runs, 10 loops each)\n"
     ]
    }
   ],
   "source": [
    "%timeit for _ in range(10): my_arr2=my_arr*2"
   ]
  },
  {
   "cell_type": "code",
   "execution_count": 9,
   "metadata": {},
   "outputs": [
    {
     "name": "stdout",
     "output_type": "stream",
     "text": [
      "Wall time: 985 ms\n"
     ]
    }
   ],
   "source": [
    "%time for _ in range(10): my_list2=[x*2 for x in my_list]"
   ]
  },
  {
   "cell_type": "markdown",
   "metadata": {},
   "source": [
    "## 4.1 NumPy的ndarray:一种多维数组对象"
   ]
  },
  {
   "cell_type": "markdown",
   "metadata": {},
   "source": [
    "### Generate some random data"
   ]
  },
  {
   "cell_type": "code",
   "execution_count": 12,
   "metadata": {},
   "outputs": [],
   "source": [
    "data=np.random.randn(2,3)"
   ]
  },
  {
   "cell_type": "code",
   "execution_count": 13,
   "metadata": {},
   "outputs": [
    {
     "data": {
      "text/plain": [
       "array([[-1.47383708,  0.61596315, -1.79536202],\n",
       "       [-0.52708435,  0.14712291, -1.71336159]])"
      ]
     },
     "execution_count": 13,
     "metadata": {},
     "output_type": "execute_result"
    }
   ],
   "source": [
    "data"
   ]
  },
  {
   "cell_type": "code",
   "execution_count": 14,
   "metadata": {},
   "outputs": [
    {
     "data": {
      "text/plain": [
       "array([[-14.73837078,   6.15963155, -17.95362019],\n",
       "       [ -5.27084349,   1.47122913, -17.13361593]])"
      ]
     },
     "execution_count": 14,
     "metadata": {},
     "output_type": "execute_result"
    }
   ],
   "source": [
    "data*10"
   ]
  },
  {
   "cell_type": "code",
   "execution_count": 15,
   "metadata": {},
   "outputs": [
    {
     "data": {
      "text/plain": [
       "array([[-2.94767416,  1.23192631, -3.59072404],\n",
       "       [-1.0541687 ,  0.29424583, -3.42672319]])"
      ]
     },
     "execution_count": 15,
     "metadata": {},
     "output_type": "execute_result"
    }
   ],
   "source": [
    "data+data"
   ]
  },
  {
   "cell_type": "code",
   "execution_count": 16,
   "metadata": {},
   "outputs": [
    {
     "data": {
      "text/plain": [
       "(2, 3)"
      ]
     },
     "execution_count": 16,
     "metadata": {},
     "output_type": "execute_result"
    }
   ],
   "source": [
    "data.shape"
   ]
  },
  {
   "cell_type": "code",
   "execution_count": 17,
   "metadata": {},
   "outputs": [
    {
     "data": {
      "text/plain": [
       "dtype('float64')"
      ]
     },
     "execution_count": 17,
     "metadata": {},
     "output_type": "execute_result"
    }
   ],
   "source": [
    "data.dtype"
   ]
  },
  {
   "cell_type": "markdown",
   "metadata": {},
   "source": [
    "### 创建ndarray"
   ]
  },
  {
   "cell_type": "code",
   "execution_count": 19,
   "metadata": {},
   "outputs": [],
   "source": [
    "data1=[6,7.5,8,0,1]"
   ]
  },
  {
   "cell_type": "code",
   "execution_count": 20,
   "metadata": {},
   "outputs": [],
   "source": [
    "arr1=np.array(data1)"
   ]
  },
  {
   "cell_type": "code",
   "execution_count": 21,
   "metadata": {},
   "outputs": [
    {
     "data": {
      "text/plain": [
       "array([6. , 7.5, 8. , 0. , 1. ])"
      ]
     },
     "execution_count": 21,
     "metadata": {},
     "output_type": "execute_result"
    }
   ],
   "source": [
    "arr1"
   ]
  },
  {
   "cell_type": "code",
   "execution_count": 22,
   "metadata": {},
   "outputs": [],
   "source": [
    "#元素同类型"
   ]
  },
  {
   "cell_type": "code",
   "execution_count": 23,
   "metadata": {},
   "outputs": [],
   "source": [
    "data2=[[1,2,3,4],[5.0,6,7,8]]"
   ]
  },
  {
   "cell_type": "code",
   "execution_count": 24,
   "metadata": {},
   "outputs": [],
   "source": [
    "arr2=np.array(data2)"
   ]
  },
  {
   "cell_type": "code",
   "execution_count": 25,
   "metadata": {},
   "outputs": [
    {
     "data": {
      "text/plain": [
       "array([[1., 2., 3., 4.],\n",
       "       [5., 6., 7., 8.]])"
      ]
     },
     "execution_count": 25,
     "metadata": {},
     "output_type": "execute_result"
    }
   ],
   "source": [
    "arr2"
   ]
  },
  {
   "cell_type": "code",
   "execution_count": 26,
   "metadata": {},
   "outputs": [],
   "source": [
    "#所有元素同类型"
   ]
  },
  {
   "cell_type": "code",
   "execution_count": 27,
   "metadata": {},
   "outputs": [
    {
     "data": {
      "text/plain": [
       "2"
      ]
     },
     "execution_count": 27,
     "metadata": {},
     "output_type": "execute_result"
    }
   ],
   "source": [
    "arr2.ndim"
   ]
  },
  {
   "cell_type": "code",
   "execution_count": 28,
   "metadata": {},
   "outputs": [
    {
     "data": {
      "text/plain": [
       "(2, 4)"
      ]
     },
     "execution_count": 28,
     "metadata": {},
     "output_type": "execute_result"
    }
   ],
   "source": [
    "arr2.shape"
   ]
  },
  {
   "cell_type": "code",
   "execution_count": 29,
   "metadata": {},
   "outputs": [
    {
     "data": {
      "text/plain": [
       "array([0., 0., 0., 0., 0., 0., 0., 0., 0., 0.])"
      ]
     },
     "execution_count": 29,
     "metadata": {},
     "output_type": "execute_result"
    }
   ],
   "source": [
    "np.zeros(10)"
   ]
  },
  {
   "cell_type": "code",
   "execution_count": 30,
   "metadata": {},
   "outputs": [
    {
     "data": {
      "text/plain": [
       "array([[0., 0., 0., 0., 0., 0.],\n",
       "       [0., 0., 0., 0., 0., 0.],\n",
       "       [0., 0., 0., 0., 0., 0.]])"
      ]
     },
     "execution_count": 30,
     "metadata": {},
     "output_type": "execute_result"
    }
   ],
   "source": [
    "np.zeros((3,6))"
   ]
  },
  {
   "cell_type": "code",
   "execution_count": 31,
   "metadata": {},
   "outputs": [
    {
     "data": {
      "text/plain": [
       "array([[[0., 0.],\n",
       "        [0., 0.],\n",
       "        [0., 0.]],\n",
       "\n",
       "       [[0., 0.],\n",
       "        [0., 0.],\n",
       "        [0., 0.]]])"
      ]
     },
     "execution_count": 31,
     "metadata": {},
     "output_type": "execute_result"
    }
   ],
   "source": [
    "np.empty((2,3,2))"
   ]
  },
  {
   "cell_type": "code",
   "execution_count": 32,
   "metadata": {},
   "outputs": [
    {
     "data": {
      "text/plain": [
       "array([[[6.23042070e-307, 3.56043053e-307, 1.60219306e-306,\n",
       "         7.56571288e-307],\n",
       "        [1.89146896e-307, 1.37961302e-306, 1.05699242e-307,\n",
       "         8.01097889e-307],\n",
       "        [1.78020169e-306, 7.56601165e-307, 1.02359984e-306,\n",
       "         1.33510679e-306]],\n",
       "\n",
       "       [[2.22522597e-306, 1.69119330e-306, 1.02360867e-306,\n",
       "         1.60220528e-306],\n",
       "        [1.78019082e-306, 6.89805151e-307, 1.78020169e-306,\n",
       "         8.45559303e-307],\n",
       "        [8.06612616e-308, 6.89810244e-307, 1.22387550e-307,\n",
       "         2.22522596e-306]]])"
      ]
     },
     "execution_count": 32,
     "metadata": {},
     "output_type": "execute_result"
    }
   ],
   "source": [
    "np.empty((2,3,4))"
   ]
  },
  {
   "cell_type": "markdown",
   "metadata": {},
   "source": [
    "### ndarray的数据类型"
   ]
  },
  {
   "cell_type": "code",
   "execution_count": 34,
   "metadata": {},
   "outputs": [],
   "source": [
    "arr1=np.array([1,2,3],dtype=np.float64)"
   ]
  },
  {
   "cell_type": "code",
   "execution_count": 35,
   "metadata": {},
   "outputs": [
    {
     "data": {
      "text/plain": [
       "array([1., 2., 3.])"
      ]
     },
     "execution_count": 35,
     "metadata": {},
     "output_type": "execute_result"
    }
   ],
   "source": [
    "arr1"
   ]
  },
  {
   "cell_type": "code",
   "execution_count": 36,
   "metadata": {},
   "outputs": [
    {
     "data": {
      "text/plain": [
       "dtype('float64')"
      ]
     },
     "execution_count": 36,
     "metadata": {},
     "output_type": "execute_result"
    }
   ],
   "source": [
    "arr1.dtype"
   ]
  },
  {
   "cell_type": "code",
   "execution_count": 37,
   "metadata": {},
   "outputs": [],
   "source": [
    "arr2=np.array([1,2,3],dtype=np.int32)"
   ]
  },
  {
   "cell_type": "code",
   "execution_count": 38,
   "metadata": {},
   "outputs": [
    {
     "data": {
      "text/plain": [
       "array([1, 2, 3])"
      ]
     },
     "execution_count": 38,
     "metadata": {},
     "output_type": "execute_result"
    }
   ],
   "source": [
    "arr2"
   ]
  },
  {
   "cell_type": "code",
   "execution_count": 39,
   "metadata": {},
   "outputs": [
    {
     "data": {
      "text/plain": [
       "dtype('int32')"
      ]
     },
     "execution_count": 39,
     "metadata": {},
     "output_type": "execute_result"
    }
   ],
   "source": [
    "arr2.dtype"
   ]
  },
  {
   "cell_type": "code",
   "execution_count": 40,
   "metadata": {},
   "outputs": [],
   "source": [
    "arr=np.array([1,2,3,4,5])"
   ]
  },
  {
   "cell_type": "code",
   "execution_count": 41,
   "metadata": {},
   "outputs": [
    {
     "data": {
      "text/plain": [
       "dtype('int32')"
      ]
     },
     "execution_count": 41,
     "metadata": {},
     "output_type": "execute_result"
    }
   ],
   "source": [
    "arr.dtype"
   ]
  },
  {
   "cell_type": "code",
   "execution_count": 42,
   "metadata": {},
   "outputs": [],
   "source": [
    "float_arr=arr.astype(np.float64)"
   ]
  },
  {
   "cell_type": "code",
   "execution_count": 43,
   "metadata": {},
   "outputs": [
    {
     "data": {
      "text/plain": [
       "dtype('float64')"
      ]
     },
     "execution_count": 43,
     "metadata": {},
     "output_type": "execute_result"
    }
   ],
   "source": [
    "float_arr.dtype"
   ]
  },
  {
   "cell_type": "code",
   "execution_count": 44,
   "metadata": {},
   "outputs": [],
   "source": [
    "num_str=np.array(['1.25','-9.6','42'],dtype=np.string_)"
   ]
  },
  {
   "cell_type": "code",
   "execution_count": 45,
   "metadata": {},
   "outputs": [
    {
     "data": {
      "text/plain": [
       "dtype('S4')"
      ]
     },
     "execution_count": 45,
     "metadata": {},
     "output_type": "execute_result"
    }
   ],
   "source": [
    "num_str.dtype"
   ]
  },
  {
   "cell_type": "code",
   "execution_count": 46,
   "metadata": {},
   "outputs": [
    {
     "data": {
      "text/plain": [
       "array([ 1.25, -9.6 , 42.  ])"
      ]
     },
     "execution_count": 46,
     "metadata": {},
     "output_type": "execute_result"
    }
   ],
   "source": [
    "num_str.astype(float)"
   ]
  },
  {
   "cell_type": "markdown",
   "metadata": {},
   "source": [
    "### NumPy数组的运算"
   ]
  },
  {
   "cell_type": "code",
   "execution_count": 48,
   "metadata": {},
   "outputs": [],
   "source": [
    "arr=np.array([[1.,2,3],[4,5,6]])"
   ]
  },
  {
   "cell_type": "code",
   "execution_count": 49,
   "metadata": {},
   "outputs": [
    {
     "data": {
      "text/plain": [
       "array([[1., 2., 3.],\n",
       "       [4., 5., 6.]])"
      ]
     },
     "execution_count": 49,
     "metadata": {},
     "output_type": "execute_result"
    }
   ],
   "source": [
    "arr"
   ]
  },
  {
   "cell_type": "code",
   "execution_count": 50,
   "metadata": {},
   "outputs": [
    {
     "data": {
      "text/plain": [
       "array([[ 1.,  4.,  9.],\n",
       "       [16., 25., 36.]])"
      ]
     },
     "execution_count": 50,
     "metadata": {},
     "output_type": "execute_result"
    }
   ],
   "source": [
    "arr*arr"
   ]
  },
  {
   "cell_type": "code",
   "execution_count": 51,
   "metadata": {},
   "outputs": [
    {
     "data": {
      "text/plain": [
       "array([[0., 0., 0.],\n",
       "       [0., 0., 0.]])"
      ]
     },
     "execution_count": 51,
     "metadata": {},
     "output_type": "execute_result"
    }
   ],
   "source": [
    "arr-arr"
   ]
  },
  {
   "cell_type": "code",
   "execution_count": 52,
   "metadata": {},
   "outputs": [
    {
     "data": {
      "text/plain": [
       "array([[1.        , 0.5       , 0.33333333],\n",
       "       [0.25      , 0.2       , 0.16666667]])"
      ]
     },
     "execution_count": 52,
     "metadata": {},
     "output_type": "execute_result"
    }
   ],
   "source": [
    "1/arr"
   ]
  },
  {
   "cell_type": "code",
   "execution_count": 53,
   "metadata": {},
   "outputs": [
    {
     "data": {
      "text/plain": [
       "array([[1.0000e+00, 4.0000e+00, 2.7000e+01],\n",
       "       [2.5600e+02, 3.1250e+03, 4.6656e+04]])"
      ]
     },
     "execution_count": 53,
     "metadata": {},
     "output_type": "execute_result"
    }
   ],
   "source": [
    "arr**arr"
   ]
  },
  {
   "cell_type": "code",
   "execution_count": 54,
   "metadata": {},
   "outputs": [],
   "source": [
    "arr2=np.array([[0,4,1],[7,2,12]])"
   ]
  },
  {
   "cell_type": "code",
   "execution_count": 55,
   "metadata": {},
   "outputs": [
    {
     "data": {
      "text/plain": [
       "array([[ 0,  4,  1],\n",
       "       [ 7,  2, 12]])"
      ]
     },
     "execution_count": 55,
     "metadata": {},
     "output_type": "execute_result"
    }
   ],
   "source": [
    "arr2"
   ]
  },
  {
   "cell_type": "code",
   "execution_count": 56,
   "metadata": {},
   "outputs": [
    {
     "data": {
      "text/plain": [
       "array([[False,  True, False],\n",
       "       [ True, False,  True]])"
      ]
     },
     "execution_count": 56,
     "metadata": {},
     "output_type": "execute_result"
    }
   ],
   "source": [
    "arr2>arr"
   ]
  },
  {
   "cell_type": "markdown",
   "metadata": {},
   "source": [
    "### 基本的索引和切片"
   ]
  },
  {
   "cell_type": "code",
   "execution_count": 57,
   "metadata": {},
   "outputs": [],
   "source": [
    "arr=np.arange(10)"
   ]
  },
  {
   "cell_type": "code",
   "execution_count": 58,
   "metadata": {},
   "outputs": [
    {
     "data": {
      "text/plain": [
       "array([0, 1, 2, 3, 4, 5, 6, 7, 8, 9])"
      ]
     },
     "execution_count": 58,
     "metadata": {},
     "output_type": "execute_result"
    }
   ],
   "source": [
    "arr"
   ]
  },
  {
   "cell_type": "code",
   "execution_count": 59,
   "metadata": {},
   "outputs": [
    {
     "data": {
      "text/plain": [
       "5"
      ]
     },
     "execution_count": 59,
     "metadata": {},
     "output_type": "execute_result"
    }
   ],
   "source": [
    "arr[5]"
   ]
  },
  {
   "cell_type": "code",
   "execution_count": 60,
   "metadata": {},
   "outputs": [
    {
     "data": {
      "text/plain": [
       "array([5, 6, 7])"
      ]
     },
     "execution_count": 60,
     "metadata": {},
     "output_type": "execute_result"
    }
   ],
   "source": [
    "arr[5:8]"
   ]
  },
  {
   "cell_type": "code",
   "execution_count": 61,
   "metadata": {},
   "outputs": [],
   "source": [
    "arr[5:8]=12 "
   ]
  },
  {
   "cell_type": "code",
   "execution_count": 62,
   "metadata": {},
   "outputs": [
    {
     "data": {
      "text/plain": [
       "array([ 0,  1,  2,  3,  4, 12, 12, 12,  8,  9])"
      ]
     },
     "execution_count": 62,
     "metadata": {},
     "output_type": "execute_result"
    }
   ],
   "source": [
    "arr"
   ]
  },
  {
   "cell_type": "code",
   "execution_count": 63,
   "metadata": {},
   "outputs": [],
   "source": [
    "#数组切片是原始数组的试图。视图上的任何修改都会直接反映到源数组上。"
   ]
  },
  {
   "cell_type": "code",
   "execution_count": 64,
   "metadata": {},
   "outputs": [],
   "source": [
    "arr_slice=arr[5:8]"
   ]
  },
  {
   "cell_type": "code",
   "execution_count": 65,
   "metadata": {},
   "outputs": [
    {
     "data": {
      "text/plain": [
       "array([12, 12, 12])"
      ]
     },
     "execution_count": 65,
     "metadata": {},
     "output_type": "execute_result"
    }
   ],
   "source": [
    "arr_slice"
   ]
  },
  {
   "cell_type": "code",
   "execution_count": 66,
   "metadata": {},
   "outputs": [],
   "source": [
    "arr_slice[1]=123"
   ]
  },
  {
   "cell_type": "code",
   "execution_count": 67,
   "metadata": {},
   "outputs": [
    {
     "data": {
      "text/plain": [
       "array([  0,   1,   2,   3,   4,  12, 123,  12,   8,   9])"
      ]
     },
     "execution_count": 67,
     "metadata": {},
     "output_type": "execute_result"
    }
   ],
   "source": [
    "arr"
   ]
  },
  {
   "cell_type": "code",
   "execution_count": 68,
   "metadata": {},
   "outputs": [],
   "source": [
    "#如果想要得到的是数组的切片副本而非视图，就需要明确的复制操作。"
   ]
  },
  {
   "cell_type": "code",
   "execution_count": 69,
   "metadata": {},
   "outputs": [],
   "source": [
    "arr_copy=arr[5:8].copy()"
   ]
  },
  {
   "cell_type": "code",
   "execution_count": 70,
   "metadata": {},
   "outputs": [
    {
     "data": {
      "text/plain": [
       "array([ 12, 123,  12])"
      ]
     },
     "execution_count": 70,
     "metadata": {},
     "output_type": "execute_result"
    }
   ],
   "source": [
    "arr_copy"
   ]
  },
  {
   "cell_type": "code",
   "execution_count": 71,
   "metadata": {},
   "outputs": [],
   "source": [
    "arr2d=np.array([[1,2,3],[4,5,6],[7,8,9]])"
   ]
  },
  {
   "cell_type": "code",
   "execution_count": 72,
   "metadata": {},
   "outputs": [
    {
     "data": {
      "text/plain": [
       "array([7, 8, 9])"
      ]
     },
     "execution_count": 72,
     "metadata": {},
     "output_type": "execute_result"
    }
   ],
   "source": [
    "arr2d[2]"
   ]
  },
  {
   "cell_type": "code",
   "execution_count": 73,
   "metadata": {},
   "outputs": [
    {
     "data": {
      "text/plain": [
       "array([[1, 2, 3],\n",
       "       [4, 5, 6],\n",
       "       [7, 8, 9]])"
      ]
     },
     "execution_count": 73,
     "metadata": {},
     "output_type": "execute_result"
    }
   ],
   "source": [
    "arr2d"
   ]
  },
  {
   "cell_type": "code",
   "execution_count": 74,
   "metadata": {},
   "outputs": [
    {
     "data": {
      "text/plain": [
       "False"
      ]
     },
     "execution_count": 74,
     "metadata": {},
     "output_type": "execute_result"
    }
   ],
   "source": [
    "arr2d[0][2] is arr2d[0,2]"
   ]
  },
  {
   "cell_type": "code",
   "execution_count": 75,
   "metadata": {},
   "outputs": [
    {
     "data": {
      "text/plain": [
       "True"
      ]
     },
     "execution_count": 75,
     "metadata": {},
     "output_type": "execute_result"
    }
   ],
   "source": [
    "arr2d[0][2]==arr2d[0,2]"
   ]
  },
  {
   "cell_type": "markdown",
   "metadata": {},
   "source": [
    "### 切片索引"
   ]
  },
  {
   "cell_type": "code",
   "execution_count": 76,
   "metadata": {},
   "outputs": [
    {
     "data": {
      "text/plain": [
       "array([  0,   1,   2,   3,   4,  12, 123,  12,   8,   9])"
      ]
     },
     "execution_count": 76,
     "metadata": {},
     "output_type": "execute_result"
    }
   ],
   "source": [
    "arr"
   ]
  },
  {
   "cell_type": "code",
   "execution_count": 77,
   "metadata": {},
   "outputs": [
    {
     "data": {
      "text/plain": [
       "array([ 1,  2,  3,  4, 12])"
      ]
     },
     "execution_count": 77,
     "metadata": {},
     "output_type": "execute_result"
    }
   ],
   "source": [
    "arr[1:6]"
   ]
  },
  {
   "cell_type": "code",
   "execution_count": 78,
   "metadata": {},
   "outputs": [
    {
     "data": {
      "text/plain": [
       "array([[1, 2, 3],\n",
       "       [4, 5, 6],\n",
       "       [7, 8, 9]])"
      ]
     },
     "execution_count": 78,
     "metadata": {},
     "output_type": "execute_result"
    }
   ],
   "source": [
    "arr2d"
   ]
  },
  {
   "cell_type": "code",
   "execution_count": 79,
   "metadata": {},
   "outputs": [
    {
     "data": {
      "text/plain": [
       "array([[1, 2, 3],\n",
       "       [4, 5, 6]])"
      ]
     },
     "execution_count": 79,
     "metadata": {},
     "output_type": "execute_result"
    }
   ],
   "source": [
    "arr2d[:2]"
   ]
  },
  {
   "cell_type": "code",
   "execution_count": 80,
   "metadata": {},
   "outputs": [
    {
     "data": {
      "text/plain": [
       "array([[2],\n",
       "       [5]])"
      ]
     },
     "execution_count": 80,
     "metadata": {},
     "output_type": "execute_result"
    }
   ],
   "source": [
    "arr2d[:2,1:2]"
   ]
  },
  {
   "cell_type": "code",
   "execution_count": 81,
   "metadata": {},
   "outputs": [
    {
     "data": {
      "text/plain": [
       "dtype('int32')"
      ]
     },
     "execution_count": 81,
     "metadata": {},
     "output_type": "execute_result"
    }
   ],
   "source": [
    "arr2d[:2,1:2].dtype"
   ]
  },
  {
   "cell_type": "code",
   "execution_count": 82,
   "metadata": {},
   "outputs": [
    {
     "data": {
      "text/plain": [
       "(2, 1)"
      ]
     },
     "execution_count": 82,
     "metadata": {},
     "output_type": "execute_result"
    }
   ],
   "source": [
    "arr2d[:2,1:2].shape"
   ]
  },
  {
   "cell_type": "code",
   "execution_count": 83,
   "metadata": {},
   "outputs": [
    {
     "data": {
      "text/plain": [
       "array([4, 5])"
      ]
     },
     "execution_count": 83,
     "metadata": {},
     "output_type": "execute_result"
    }
   ],
   "source": [
    "arr2d[1,:2]"
   ]
  },
  {
   "cell_type": "code",
   "execution_count": 84,
   "metadata": {},
   "outputs": [
    {
     "data": {
      "text/plain": [
       "array([2, 5])"
      ]
     },
     "execution_count": 84,
     "metadata": {},
     "output_type": "execute_result"
    }
   ],
   "source": [
    "arr2d[:2,1]"
   ]
  },
  {
   "cell_type": "markdown",
   "metadata": {},
   "source": [
    "### 布尔型索引"
   ]
  },
  {
   "cell_type": "code",
   "execution_count": 86,
   "metadata": {},
   "outputs": [],
   "source": [
    "#布尔型矢量做索引"
   ]
  },
  {
   "cell_type": "code",
   "execution_count": 87,
   "metadata": {},
   "outputs": [],
   "source": [
    "#数组的比较运算时矢量化的"
   ]
  },
  {
   "cell_type": "code",
   "execution_count": 88,
   "metadata": {},
   "outputs": [],
   "source": [
    "names=np.array(['B','J','W','B','W','J','J'])"
   ]
  },
  {
   "cell_type": "code",
   "execution_count": 89,
   "metadata": {},
   "outputs": [
    {
     "data": {
      "text/plain": [
       "array(['B', 'J', 'W', 'B', 'W', 'J', 'J'], dtype='<U1')"
      ]
     },
     "execution_count": 89,
     "metadata": {},
     "output_type": "execute_result"
    }
   ],
   "source": [
    "names"
   ]
  },
  {
   "cell_type": "code",
   "execution_count": 90,
   "metadata": {},
   "outputs": [],
   "source": [
    "data=np.random.randn(7,4)"
   ]
  },
  {
   "cell_type": "code",
   "execution_count": 91,
   "metadata": {},
   "outputs": [
    {
     "data": {
      "text/plain": [
       "array([[-0.36038617,  1.11987474, -0.55175554, -0.93888476],\n",
       "       [-2.742731  ,  1.93992337,  0.07004265,  0.36535116],\n",
       "       [-1.09869988, -0.19358232,  1.41221147, -1.05932258],\n",
       "       [ 0.23325259, -0.13911479,  0.46220177, -0.9642689 ],\n",
       "       [ 0.88827799, -0.87610437, -1.73690705,  1.07665623],\n",
       "       [-1.53713829, -0.80110087,  0.21191526, -0.50197921],\n",
       "       [ 0.17907661, -0.97723553, -1.27452745, -0.38098925]])"
      ]
     },
     "execution_count": 91,
     "metadata": {},
     "output_type": "execute_result"
    }
   ],
   "source": [
    "data"
   ]
  },
  {
   "cell_type": "code",
   "execution_count": 92,
   "metadata": {},
   "outputs": [
    {
     "data": {
      "text/plain": [
       "array([ True, False, False,  True, False, False, False])"
      ]
     },
     "execution_count": 92,
     "metadata": {},
     "output_type": "execute_result"
    }
   ],
   "source": [
    "names=='B'"
   ]
  },
  {
   "cell_type": "code",
   "execution_count": 93,
   "metadata": {},
   "outputs": [
    {
     "data": {
      "text/plain": [
       "array([[-0.36038617,  1.11987474, -0.55175554, -0.93888476],\n",
       "       [ 0.23325259, -0.13911479,  0.46220177, -0.9642689 ]])"
      ]
     },
     "execution_count": 93,
     "metadata": {},
     "output_type": "execute_result"
    }
   ],
   "source": [
    "data[names=='B']"
   ]
  },
  {
   "cell_type": "code",
   "execution_count": 94,
   "metadata": {},
   "outputs": [],
   "source": [
    "# != ~ & |"
   ]
  },
  {
   "cell_type": "code",
   "execution_count": 95,
   "metadata": {},
   "outputs": [],
   "source": [
    "#and 和 or 在布尔数组中无效，要用&与|"
   ]
  },
  {
   "cell_type": "markdown",
   "metadata": {},
   "source": [
    "### 花式索引"
   ]
  },
  {
   "cell_type": "code",
   "execution_count": 96,
   "metadata": {},
   "outputs": [],
   "source": [
    "arr=np.arange(32).reshape((8,4))"
   ]
  },
  {
   "cell_type": "code",
   "execution_count": 97,
   "metadata": {},
   "outputs": [
    {
     "data": {
      "text/plain": [
       "array([[ 0,  1,  2,  3],\n",
       "       [ 4,  5,  6,  7],\n",
       "       [ 8,  9, 10, 11],\n",
       "       [12, 13, 14, 15],\n",
       "       [16, 17, 18, 19],\n",
       "       [20, 21, 22, 23],\n",
       "       [24, 25, 26, 27],\n",
       "       [28, 29, 30, 31]])"
      ]
     },
     "execution_count": 97,
     "metadata": {},
     "output_type": "execute_result"
    }
   ],
   "source": [
    "arr"
   ]
  },
  {
   "cell_type": "code",
   "execution_count": 98,
   "metadata": {},
   "outputs": [
    {
     "data": {
      "text/plain": [
       "array([ 4, 23, 29, 10])"
      ]
     },
     "execution_count": 98,
     "metadata": {},
     "output_type": "execute_result"
    }
   ],
   "source": [
    "arr[[1,5,7,2],[0,3,1,2]]"
   ]
  },
  {
   "cell_type": "code",
   "execution_count": 99,
   "metadata": {},
   "outputs": [
    {
     "data": {
      "text/plain": [
       "array([[ 4,  7,  5,  6],\n",
       "       [20, 23, 21, 22],\n",
       "       [28, 31, 29, 30],\n",
       "       [ 8, 11,  9, 10]])"
      ]
     },
     "execution_count": 99,
     "metadata": {},
     "output_type": "execute_result"
    }
   ],
   "source": [
    "arr[[1,5,7,2]][:,[0,3,1,2]]"
   ]
  },
  {
   "cell_type": "code",
   "execution_count": 100,
   "metadata": {},
   "outputs": [],
   "source": [
    "#花式索引和切片不一样"
   ]
  },
  {
   "cell_type": "markdown",
   "metadata": {},
   "source": [
    "### 数组转置和轴对换"
   ]
  },
  {
   "cell_type": "code",
   "execution_count": 101,
   "metadata": {},
   "outputs": [],
   "source": [
    "arr=np.arange(15).reshape((3,5))"
   ]
  },
  {
   "cell_type": "code",
   "execution_count": 102,
   "metadata": {},
   "outputs": [
    {
     "data": {
      "text/plain": [
       "array([[ 0,  5, 10],\n",
       "       [ 1,  6, 11],\n",
       "       [ 2,  7, 12],\n",
       "       [ 3,  8, 13],\n",
       "       [ 4,  9, 14]])"
      ]
     },
     "execution_count": 102,
     "metadata": {},
     "output_type": "execute_result"
    }
   ],
   "source": [
    "arr.T"
   ]
  },
  {
   "cell_type": "code",
   "execution_count": 103,
   "metadata": {},
   "outputs": [
    {
     "data": {
      "text/plain": [
       "array([[125, 140, 155, 170, 185],\n",
       "       [140, 158, 176, 194, 212],\n",
       "       [155, 176, 197, 218, 239],\n",
       "       [170, 194, 218, 242, 266],\n",
       "       [185, 212, 239, 266, 293]])"
      ]
     },
     "execution_count": 103,
     "metadata": {},
     "output_type": "execute_result"
    }
   ],
   "source": [
    "np.dot(arr.T,arr)"
   ]
  },
  {
   "cell_type": "code",
   "execution_count": 104,
   "metadata": {},
   "outputs": [],
   "source": [
    "arr3=np.arange(16).reshape((2,2,4))"
   ]
  },
  {
   "cell_type": "code",
   "execution_count": 106,
   "metadata": {},
   "outputs": [
    {
     "data": {
      "text/plain": [
       "array([[[ 0,  1,  2,  3],\n",
       "        [ 8,  9, 10, 11]],\n",
       "\n",
       "       [[ 4,  5,  6,  7],\n",
       "        [12, 13, 14, 15]]])"
      ]
     },
     "execution_count": 106,
     "metadata": {},
     "output_type": "execute_result"
    }
   ],
   "source": [
    "arr3.transpose((1,0,2))"
   ]
  },
  {
   "cell_type": "code",
   "execution_count": 107,
   "metadata": {},
   "outputs": [
    {
     "data": {
      "text/plain": [
       "array([[[ 0,  4],\n",
       "        [ 1,  5],\n",
       "        [ 2,  6],\n",
       "        [ 3,  7]],\n",
       "\n",
       "       [[ 8, 12],\n",
       "        [ 9, 13],\n",
       "        [10, 14],\n",
       "        [11, 15]]])"
      ]
     },
     "execution_count": 107,
     "metadata": {},
     "output_type": "execute_result"
    }
   ],
   "source": [
    "arr3.swapaxes(1,2)"
   ]
  },
  {
   "cell_type": "code",
   "execution_count": 108,
   "metadata": {},
   "outputs": [],
   "source": [
    "#swapaxes返回的是视图"
   ]
  },
  {
   "cell_type": "markdown",
   "metadata": {},
   "source": [
    "## 4.2 通用函数：快速的元素级数组函数"
   ]
  },
  {
   "cell_type": "code",
   "execution_count": 110,
   "metadata": {},
   "outputs": [],
   "source": [
    "arr=np.arange(10)"
   ]
  },
  {
   "cell_type": "code",
   "execution_count": 111,
   "metadata": {},
   "outputs": [
    {
     "data": {
      "text/plain": [
       "array([0, 1, 2, 3, 4, 5, 6, 7, 8, 9])"
      ]
     },
     "execution_count": 111,
     "metadata": {},
     "output_type": "execute_result"
    }
   ],
   "source": [
    "arr"
   ]
  },
  {
   "cell_type": "code",
   "execution_count": 112,
   "metadata": {},
   "outputs": [
    {
     "data": {
      "text/plain": [
       "array([0.        , 1.        , 1.41421356, 1.73205081, 2.        ,\n",
       "       2.23606798, 2.44948974, 2.64575131, 2.82842712, 3.        ])"
      ]
     },
     "execution_count": 112,
     "metadata": {},
     "output_type": "execute_result"
    }
   ],
   "source": [
    "np.sqrt(arr)"
   ]
  },
  {
   "cell_type": "code",
   "execution_count": 113,
   "metadata": {},
   "outputs": [
    {
     "data": {
      "text/plain": [
       "array([1.00000000e+00, 2.71828183e+00, 7.38905610e+00, 2.00855369e+01,\n",
       "       5.45981500e+01, 1.48413159e+02, 4.03428793e+02, 1.09663316e+03,\n",
       "       2.98095799e+03, 8.10308393e+03])"
      ]
     },
     "execution_count": 113,
     "metadata": {},
     "output_type": "execute_result"
    }
   ],
   "source": [
    "np.exp(arr)"
   ]
  },
  {
   "cell_type": "code",
   "execution_count": 114,
   "metadata": {},
   "outputs": [],
   "source": [
    "x=np.random.randn(8)"
   ]
  },
  {
   "cell_type": "code",
   "execution_count": 115,
   "metadata": {},
   "outputs": [],
   "source": [
    "y=np.random.randn(8)"
   ]
  },
  {
   "cell_type": "code",
   "execution_count": 116,
   "metadata": {},
   "outputs": [
    {
     "data": {
      "text/plain": [
       "array([ 0.49200721,  0.47240542,  1.59119382, -0.36422313,  1.40701649,\n",
       "        0.64040347,  1.15482588,  0.57150086])"
      ]
     },
     "execution_count": 116,
     "metadata": {},
     "output_type": "execute_result"
    }
   ],
   "source": [
    "np.maximum(x,y)"
   ]
  },
  {
   "cell_type": "code",
   "execution_count": 117,
   "metadata": {},
   "outputs": [],
   "source": [
    "remainder,whole_part=np.modf(x)"
   ]
  },
  {
   "cell_type": "code",
   "execution_count": 118,
   "metadata": {},
   "outputs": [
    {
     "ename": "NameError",
     "evalue": "name 'remaider' is not defined",
     "output_type": "error",
     "traceback": [
      "\u001b[1;31m---------------------------------------------------------------------------\u001b[0m",
      "\u001b[1;31mNameError\u001b[0m                                 Traceback (most recent call last)",
      "\u001b[1;32m<ipython-input-118-110169b8bddc>\u001b[0m in \u001b[0;36m<module>\u001b[1;34m\u001b[0m\n\u001b[1;32m----> 1\u001b[1;33m \u001b[0mremaider\u001b[0m\u001b[1;33m\u001b[0m\u001b[1;33m\u001b[0m\u001b[0m\n\u001b[0m",
      "\u001b[1;31mNameError\u001b[0m: name 'remaider' is not defined"
     ]
    }
   ],
   "source": [
    "remaider"
   ]
  },
  {
   "cell_type": "code",
   "execution_count": 119,
   "metadata": {},
   "outputs": [
    {
     "data": {
      "text/plain": [
       "array([ 0.49200721, -0.43416726,  0.59119382, -0.36422313,  0.40701649,\n",
       "        0.64040347,  0.15482588,  0.57150086])"
      ]
     },
     "execution_count": 119,
     "metadata": {},
     "output_type": "execute_result"
    }
   ],
   "source": [
    "remainder"
   ]
  },
  {
   "cell_type": "code",
   "execution_count": 120,
   "metadata": {},
   "outputs": [
    {
     "data": {
      "text/plain": [
       "array([ 0., -0.,  1., -0.,  1.,  0.,  1.,  0.])"
      ]
     },
     "execution_count": 120,
     "metadata": {},
     "output_type": "execute_result"
    }
   ],
   "source": [
    "whole_part"
   ]
  },
  {
   "cell_type": "code",
   "execution_count": 121,
   "metadata": {},
   "outputs": [
    {
     "data": {
      "text/plain": [
       "array([0, 1, 2, 3, 4, 5, 6, 7, 8, 9])"
      ]
     },
     "execution_count": 121,
     "metadata": {},
     "output_type": "execute_result"
    }
   ],
   "source": [
    "arr"
   ]
  },
  {
   "cell_type": "code",
   "execution_count": 122,
   "metadata": {},
   "outputs": [
    {
     "ename": "ValueError",
     "evalue": "operands could not be broadcast together with shapes (10,) (3,) ",
     "output_type": "error",
     "traceback": [
      "\u001b[1;31m---------------------------------------------------------------------------\u001b[0m",
      "\u001b[1;31mValueError\u001b[0m                                Traceback (most recent call last)",
      "\u001b[1;32m<ipython-input-122-5946be51d108>\u001b[0m in \u001b[0;36m<module>\u001b[1;34m\u001b[0m\n\u001b[1;32m----> 1\u001b[1;33m \u001b[0mnp\u001b[0m\u001b[1;33m.\u001b[0m\u001b[0msqrt\u001b[0m\u001b[1;33m(\u001b[0m\u001b[0marr\u001b[0m\u001b[1;33m,\u001b[0m\u001b[0marr1\u001b[0m\u001b[1;33m)\u001b[0m\u001b[1;33m\u001b[0m\u001b[1;33m\u001b[0m\u001b[0m\n\u001b[0m",
      "\u001b[1;31mValueError\u001b[0m: operands could not be broadcast together with shapes (10,) (3,) "
     ]
    }
   ],
   "source": [
    "np.sqrt(arr,arr1)"
   ]
  },
  {
   "cell_type": "code",
   "execution_count": 123,
   "metadata": {},
   "outputs": [
    {
     "ename": "TypeError",
     "evalue": "ufunc 'sqrt' output (typecode 'd') could not be coerced to provided output parameter (typecode 'l') according to the casting rule ''same_kind''",
     "output_type": "error",
     "traceback": [
      "\u001b[1;31m---------------------------------------------------------------------------\u001b[0m",
      "\u001b[1;31mTypeError\u001b[0m                                 Traceback (most recent call last)",
      "\u001b[1;32m<ipython-input-123-433157c54c4f>\u001b[0m in \u001b[0;36m<module>\u001b[1;34m\u001b[0m\n\u001b[1;32m----> 1\u001b[1;33m \u001b[0mnp\u001b[0m\u001b[1;33m.\u001b[0m\u001b[0msqrt\u001b[0m\u001b[1;33m(\u001b[0m\u001b[0marr1\u001b[0m\u001b[1;33m,\u001b[0m\u001b[0marr\u001b[0m\u001b[1;33m)\u001b[0m\u001b[1;33m\u001b[0m\u001b[1;33m\u001b[0m\u001b[0m\n\u001b[0m",
      "\u001b[1;31mTypeError\u001b[0m: ufunc 'sqrt' output (typecode 'd') could not be coerced to provided output parameter (typecode 'l') according to the casting rule ''same_kind''"
     ]
    }
   ],
   "source": [
    "np.sqrt(arr1,arr)"
   ]
  },
  {
   "cell_type": "code",
   "execution_count": 124,
   "metadata": {},
   "outputs": [
    {
     "ename": "TypeError",
     "evalue": "ufunc 'sqrt' output (typecode 'd') could not be coerced to provided output parameter (typecode 'l') according to the casting rule ''same_kind''",
     "output_type": "error",
     "traceback": [
      "\u001b[1;31m---------------------------------------------------------------------------\u001b[0m",
      "\u001b[1;31mTypeError\u001b[0m                                 Traceback (most recent call last)",
      "\u001b[1;32m<ipython-input-124-e3ca18b15869>\u001b[0m in \u001b[0;36m<module>\u001b[1;34m\u001b[0m\n\u001b[1;32m----> 1\u001b[1;33m \u001b[0mnp\u001b[0m\u001b[1;33m.\u001b[0m\u001b[0msqrt\u001b[0m\u001b[1;33m(\u001b[0m\u001b[0marr\u001b[0m\u001b[1;33m,\u001b[0m\u001b[0marr\u001b[0m\u001b[1;33m)\u001b[0m\u001b[1;33m\u001b[0m\u001b[1;33m\u001b[0m\u001b[0m\n\u001b[0m",
      "\u001b[1;31mTypeError\u001b[0m: ufunc 'sqrt' output (typecode 'd') could not be coerced to provided output parameter (typecode 'l') according to the casting rule ''same_kind''"
     ]
    }
   ],
   "source": [
    "np.sqrt(arr,arr)"
   ]
  },
  {
   "cell_type": "code",
   "execution_count": 125,
   "metadata": {},
   "outputs": [
    {
     "data": {
      "text/plain": [
       "array([0.        , 1.        , 1.41421356, 1.73205081, 2.        ,\n",
       "       2.23606798, 2.44948974, 2.64575131, 2.82842712, 3.        ])"
      ]
     },
     "execution_count": 125,
     "metadata": {},
     "output_type": "execute_result"
    }
   ],
   "source": [
    "np.sqrt(arr)"
   ]
  },
  {
   "cell_type": "markdown",
   "metadata": {},
   "source": [
    "## 4.3 利用数组进行数据处理"
   ]
  },
  {
   "cell_type": "code",
   "execution_count": 129,
   "metadata": {},
   "outputs": [],
   "source": [
    "points=np.arange(-5,5,1)"
   ]
  },
  {
   "cell_type": "code",
   "execution_count": 130,
   "metadata": {},
   "outputs": [
    {
     "data": {
      "text/plain": [
       "array([-5, -4, -3, -2, -1,  0,  1,  2,  3,  4])"
      ]
     },
     "execution_count": 130,
     "metadata": {},
     "output_type": "execute_result"
    }
   ],
   "source": [
    "points"
   ]
  },
  {
   "cell_type": "code",
   "execution_count": 131,
   "metadata": {},
   "outputs": [],
   "source": [
    "xs,ys=np.meshgrid(points,points)"
   ]
  },
  {
   "cell_type": "code",
   "execution_count": 132,
   "metadata": {},
   "outputs": [
    {
     "data": {
      "text/plain": [
       "array([[-5, -4, -3, -2, -1,  0,  1,  2,  3,  4],\n",
       "       [-5, -4, -3, -2, -1,  0,  1,  2,  3,  4],\n",
       "       [-5, -4, -3, -2, -1,  0,  1,  2,  3,  4],\n",
       "       [-5, -4, -3, -2, -1,  0,  1,  2,  3,  4],\n",
       "       [-5, -4, -3, -2, -1,  0,  1,  2,  3,  4],\n",
       "       [-5, -4, -3, -2, -1,  0,  1,  2,  3,  4],\n",
       "       [-5, -4, -3, -2, -1,  0,  1,  2,  3,  4],\n",
       "       [-5, -4, -3, -2, -1,  0,  1,  2,  3,  4],\n",
       "       [-5, -4, -3, -2, -1,  0,  1,  2,  3,  4],\n",
       "       [-5, -4, -3, -2, -1,  0,  1,  2,  3,  4]])"
      ]
     },
     "execution_count": 132,
     "metadata": {},
     "output_type": "execute_result"
    }
   ],
   "source": [
    "xs"
   ]
  },
  {
   "cell_type": "code",
   "execution_count": 133,
   "metadata": {},
   "outputs": [
    {
     "data": {
      "text/plain": [
       "array([[-5, -5, -5, -5, -5, -5, -5, -5, -5, -5],\n",
       "       [-4, -4, -4, -4, -4, -4, -4, -4, -4, -4],\n",
       "       [-3, -3, -3, -3, -3, -3, -3, -3, -3, -3],\n",
       "       [-2, -2, -2, -2, -2, -2, -2, -2, -2, -2],\n",
       "       [-1, -1, -1, -1, -1, -1, -1, -1, -1, -1],\n",
       "       [ 0,  0,  0,  0,  0,  0,  0,  0,  0,  0],\n",
       "       [ 1,  1,  1,  1,  1,  1,  1,  1,  1,  1],\n",
       "       [ 2,  2,  2,  2,  2,  2,  2,  2,  2,  2],\n",
       "       [ 3,  3,  3,  3,  3,  3,  3,  3,  3,  3],\n",
       "       [ 4,  4,  4,  4,  4,  4,  4,  4,  4,  4]])"
      ]
     },
     "execution_count": 133,
     "metadata": {},
     "output_type": "execute_result"
    }
   ],
   "source": [
    "ys"
   ]
  },
  {
   "cell_type": "code",
   "execution_count": 134,
   "metadata": {},
   "outputs": [],
   "source": [
    "z=np.sqrt(xs**2+ys**2)"
   ]
  },
  {
   "cell_type": "code",
   "execution_count": 135,
   "metadata": {},
   "outputs": [
    {
     "data": {
      "text/plain": [
       "array([[7.07106781, 6.40312424, 5.83095189, 5.38516481, 5.09901951,\n",
       "        5.        , 5.09901951, 5.38516481, 5.83095189, 6.40312424],\n",
       "       [6.40312424, 5.65685425, 5.        , 4.47213595, 4.12310563,\n",
       "        4.        , 4.12310563, 4.47213595, 5.        , 5.65685425],\n",
       "       [5.83095189, 5.        , 4.24264069, 3.60555128, 3.16227766,\n",
       "        3.        , 3.16227766, 3.60555128, 4.24264069, 5.        ],\n",
       "       [5.38516481, 4.47213595, 3.60555128, 2.82842712, 2.23606798,\n",
       "        2.        , 2.23606798, 2.82842712, 3.60555128, 4.47213595],\n",
       "       [5.09901951, 4.12310563, 3.16227766, 2.23606798, 1.41421356,\n",
       "        1.        , 1.41421356, 2.23606798, 3.16227766, 4.12310563],\n",
       "       [5.        , 4.        , 3.        , 2.        , 1.        ,\n",
       "        0.        , 1.        , 2.        , 3.        , 4.        ],\n",
       "       [5.09901951, 4.12310563, 3.16227766, 2.23606798, 1.41421356,\n",
       "        1.        , 1.41421356, 2.23606798, 3.16227766, 4.12310563],\n",
       "       [5.38516481, 4.47213595, 3.60555128, 2.82842712, 2.23606798,\n",
       "        2.        , 2.23606798, 2.82842712, 3.60555128, 4.47213595],\n",
       "       [5.83095189, 5.        , 4.24264069, 3.60555128, 3.16227766,\n",
       "        3.        , 3.16227766, 3.60555128, 4.24264069, 5.        ],\n",
       "       [6.40312424, 5.65685425, 5.        , 4.47213595, 4.12310563,\n",
       "        4.        , 4.12310563, 4.47213595, 5.        , 5.65685425]])"
      ]
     },
     "execution_count": 135,
     "metadata": {},
     "output_type": "execute_result"
    }
   ],
   "source": [
    "z"
   ]
  },
  {
   "cell_type": "code",
   "execution_count": 136,
   "metadata": {},
   "outputs": [],
   "source": [
    "import matplotlib.pyplot as plt"
   ]
  },
  {
   "cell_type": "code",
   "execution_count": 146,
   "metadata": {},
   "outputs": [
    {
     "data": {
      "text/plain": [
       "Text(0.5, 1.0, 'Image plot of ')"
      ]
     },
     "execution_count": 146,
     "metadata": {},
     "output_type": "execute_result"
    },
    {
     "data": {
      "image/png": "[encoded data removed]",
      "text/plain": [
       "<Figure size 432x288 with 2 Axes>"
      ]
     },
     "metadata": {
      "needs_background": "light"
     },
     "output_type": "display_data"
    }
   ],
   "source": [
    "plt.imshow(z,cmap=plt.cm.gray);plt.colorbar();plt.title('Image plot of ')"
   ]
  },
  {
   "cell_type": "markdown",
   "metadata": {},
   "source": [
    "### 将条件逻辑表述为数组运算"
   ]
  },
  {
   "cell_type": "code",
   "execution_count": 147,
   "metadata": {},
   "outputs": [],
   "source": [
    "arr=np.random.randn(4,4)"
   ]
  },
  {
   "cell_type": "code",
   "execution_count": 148,
   "metadata": {},
   "outputs": [
    {
     "data": {
      "text/plain": [
       "array([[ 2, -2,  2, -2],\n",
       "       [ 2,  2,  2, -2],\n",
       "       [-2, -2, -2,  2],\n",
       "       [ 2,  2, -2,  2]])"
      ]
     },
     "execution_count": 148,
     "metadata": {},
     "output_type": "execute_result"
    }
   ],
   "source": [
    "np.where(arr>0,2,-2)"
   ]
  },
  {
   "cell_type": "markdown",
   "metadata": {},
   "source": [
    "### 数学和统计方法"
   ]
  },
  {
   "cell_type": "code",
   "execution_count": 149,
   "metadata": {},
   "outputs": [],
   "source": [
    "arr=np.random.randn(5,4)"
   ]
  },
  {
   "cell_type": "code",
   "execution_count": 150,
   "metadata": {},
   "outputs": [
    {
     "data": {
      "text/plain": [
       "array([[ 0.23666517,  0.04710598, -1.1515852 ,  0.88746049],\n",
       "       [-0.47470325,  0.11645037, -1.4473786 , -0.02574151],\n",
       "       [-0.52155252,  0.44693889, -0.90507042, -0.38814938],\n",
       "       [-1.4110805 , -0.09640941,  0.6378263 ,  0.33739355],\n",
       "       [-1.34100906, -0.89843404, -1.46568825,  2.53101995]])"
      ]
     },
     "execution_count": 150,
     "metadata": {},
     "output_type": "execute_result"
    }
   ],
   "source": [
    "arr"
   ]
  },
  {
   "cell_type": "code",
   "execution_count": 151,
   "metadata": {},
   "outputs": [
    {
     "data": {
      "text/plain": [
       "-0.24429707195961878"
      ]
     },
     "execution_count": 151,
     "metadata": {},
     "output_type": "execute_result"
    }
   ],
   "source": [
    "arr.mean()"
   ]
  },
  {
   "cell_type": "code",
   "execution_count": 152,
   "metadata": {},
   "outputs": [
    {
     "data": {
      "text/plain": [
       "-0.24429707195961878"
      ]
     },
     "execution_count": 152,
     "metadata": {},
     "output_type": "execute_result"
    }
   ],
   "source": [
    "np.mean(arr)"
   ]
  },
  {
   "cell_type": "code",
   "execution_count": 153,
   "metadata": {},
   "outputs": [
    {
     "data": {
      "text/plain": [
       "-4.885941439192376"
      ]
     },
     "execution_count": 153,
     "metadata": {},
     "output_type": "execute_result"
    }
   ],
   "source": [
    "arr.sum()"
   ]
  },
  {
   "cell_type": "code",
   "execution_count": 154,
   "metadata": {},
   "outputs": [
    {
     "data": {
      "text/plain": [
       "array([ 0.00491161, -0.45784325, -0.34195836, -0.13306751, -0.29352785])"
      ]
     },
     "execution_count": 154,
     "metadata": {},
     "output_type": "execute_result"
    }
   ],
   "source": [
    "arr.mean(axis=1)"
   ]
  },
  {
   "cell_type": "code",
   "execution_count": 155,
   "metadata": {},
   "outputs": [
    {
     "data": {
      "text/plain": [
       "array([-0.70233603, -0.07686964, -0.86637923,  0.66839662])"
      ]
     },
     "execution_count": 155,
     "metadata": {},
     "output_type": "execute_result"
    }
   ],
   "source": [
    "arr.mean(axis=0)"
   ]
  },
  {
   "cell_type": "code",
   "execution_count": 156,
   "metadata": {},
   "outputs": [
    {
     "data": {
      "text/plain": [
       "array([-3.51168016, -0.38434821, -4.33189617,  3.3419831 ])"
      ]
     },
     "execution_count": 156,
     "metadata": {},
     "output_type": "execute_result"
    }
   ],
   "source": [
    "arr.sum(0)"
   ]
  },
  {
   "cell_type": "code",
   "execution_count": 157,
   "metadata": {},
   "outputs": [
    {
     "data": {
      "text/plain": [
       "array([ 0.23666517,  0.28377116, -0.86781405,  0.01964644, -0.45505681,\n",
       "       -0.33860644, -1.78598504, -1.81172655, -2.33327907, -1.88634018,\n",
       "       -2.7914106 , -3.17955998, -4.59064048, -4.68704989, -4.04922359,\n",
       "       -3.71183004, -5.0528391 , -5.95127314, -7.41696139, -4.88594144])"
      ]
     },
     "execution_count": 157,
     "metadata": {},
     "output_type": "execute_result"
    }
   ],
   "source": [
    "arr.cumsum()"
   ]
  },
  {
   "cell_type": "code",
   "execution_count": 158,
   "metadata": {},
   "outputs": [
    {
     "data": {
      "text/plain": [
       "array([[ 0.23666517,  0.04710598, -1.1515852 ,  0.88746049],\n",
       "       [-0.47470325,  0.11645037, -1.4473786 , -0.02574151],\n",
       "       [-0.52155252,  0.44693889, -0.90507042, -0.38814938],\n",
       "       [-1.4110805 , -0.09640941,  0.6378263 ,  0.33739355],\n",
       "       [-1.34100906, -0.89843404, -1.46568825,  2.53101995]])"
      ]
     },
     "execution_count": 158,
     "metadata": {},
     "output_type": "execute_result"
    }
   ],
   "source": [
    "arr"
   ]
  },
  {
   "cell_type": "code",
   "execution_count": 159,
   "metadata": {},
   "outputs": [
    {
     "data": {
      "text/plain": [
       "array([ 2.36665175e-01,  1.11483451e-02, -1.28382693e-02, -1.13934567e-02,\n",
       "        5.40851088e-03,  6.29823100e-04, -9.11592477e-04,  2.34657692e-05,\n",
       "       -1.22386311e-05, -5.46992024e-06,  4.95066300e-06, -1.92159679e-06,\n",
       "        2.71152776e-06, -2.61416796e-07, -1.66738509e-07, -5.62564977e-08,\n",
       "        7.54404731e-08, -6.77782891e-08,  9.93418422e-08,  2.51436185e-07])"
      ]
     },
     "execution_count": 159,
     "metadata": {},
     "output_type": "execute_result"
    }
   ],
   "source": [
    "arr.cumprod()"
   ]
  },
  {
   "cell_type": "code",
   "execution_count": 163,
   "metadata": {},
   "outputs": [
    {
     "data": {
      "text/plain": [
       "array([[ 0.23666517,  0.04710598, -1.1515852 ,  0.88746049],\n",
       "       [-0.23803807,  0.16355635, -2.5989638 ,  0.86171898],\n",
       "       [-0.7595906 ,  0.61049524, -3.50403422,  0.47356959],\n",
       "       [-2.17067109,  0.51408583, -2.86620792,  0.81096314],\n",
       "       [-3.51168016, -0.38434821, -4.33189617,  3.3419831 ]])"
      ]
     },
     "execution_count": 163,
     "metadata": {},
     "output_type": "execute_result"
    }
   ],
   "source": [
    "arr.cumsum(0)"
   ]
  },
  {
   "cell_type": "code",
   "execution_count": 162,
   "metadata": {},
   "outputs": [
    {
     "name": "stdout",
     "output_type": "stream",
     "text": [
      "Help on built-in function cumsum:\n",
      "\n",
      "cumsum(...) method of numpy.ndarray instance\n",
      "    a.cumsum(axis=None, dtype=None, out=None)\n",
      "    \n",
      "    Return the cumulative sum of the elements along the given axis.\n",
      "    \n",
      "    Refer to `numpy.cumsum` for full documentation.\n",
      "    \n",
      "    See Also\n",
      "    --------\n",
      "    numpy.cumsum : equivalent function\n",
      "\n"
     ]
    }
   ],
   "source": [
    "help(arr.cumsum)"
   ]
  },
  {
   "cell_type": "code",
   "execution_count": 164,
   "metadata": {},
   "outputs": [
    {
     "name": "stdout",
     "output_type": "stream",
     "text": [
      "Help on built-in function cumprod:\n",
      "\n",
      "cumprod(...) method of numpy.ndarray instance\n",
      "    a.cumprod(axis=None, dtype=None, out=None)\n",
      "    \n",
      "    Return the cumulative product of the elements along the given axis.\n",
      "    \n",
      "    Refer to `numpy.cumprod` for full documentation.\n",
      "    \n",
      "    See Also\n",
      "    --------\n",
      "    numpy.cumprod : equivalent function\n",
      "\n"
     ]
    }
   ],
   "source": [
    "help(arr.cumprod)"
   ]
  },
  {
   "cell_type": "markdown",
   "metadata": {},
   "source": [
    "### 用于布尔型数组的方法"
   ]
  },
  {
   "cell_type": "code",
   "execution_count": 165,
   "metadata": {},
   "outputs": [],
   "source": [
    "arr=np.random.randn(100)"
   ]
  },
  {
   "cell_type": "code",
   "execution_count": 166,
   "metadata": {},
   "outputs": [
    {
     "data": {
      "text/plain": [
       "60"
      ]
     },
     "execution_count": 166,
     "metadata": {},
     "output_type": "execute_result"
    }
   ],
   "source": [
    "(arr>0).sum()"
   ]
  },
  {
   "cell_type": "code",
   "execution_count": 167,
   "metadata": {},
   "outputs": [
    {
     "data": {
      "text/plain": [
       "True"
      ]
     },
     "execution_count": 167,
     "metadata": {},
     "output_type": "execute_result"
    }
   ],
   "source": [
    "(arr>0).any()"
   ]
  },
  {
   "cell_type": "code",
   "execution_count": 168,
   "metadata": {},
   "outputs": [
    {
     "data": {
      "text/plain": [
       "False"
      ]
     },
     "execution_count": 168,
     "metadata": {},
     "output_type": "execute_result"
    }
   ],
   "source": [
    "(arr>0).all()"
   ]
  },
  {
   "cell_type": "markdown",
   "metadata": {},
   "source": [
    "### 排序"
   ]
  },
  {
   "cell_type": "code",
   "execution_count": 169,
   "metadata": {},
   "outputs": [],
   "source": [
    "arr=np.random.randn(6)"
   ]
  },
  {
   "cell_type": "code",
   "execution_count": 170,
   "metadata": {},
   "outputs": [
    {
     "data": {
      "text/plain": [
       "array([-1.06837763, -0.16592163,  1.02258562,  0.77088404, -1.84288434,\n",
       "        1.46038358])"
      ]
     },
     "execution_count": 170,
     "metadata": {},
     "output_type": "execute_result"
    }
   ],
   "source": [
    "arr"
   ]
  },
  {
   "cell_type": "code",
   "execution_count": 171,
   "metadata": {},
   "outputs": [],
   "source": [
    "arr.sort()"
   ]
  },
  {
   "cell_type": "code",
   "execution_count": 172,
   "metadata": {},
   "outputs": [
    {
     "data": {
      "text/plain": [
       "array([-1.84288434, -1.06837763, -0.16592163,  0.77088404,  1.02258562,\n",
       "        1.46038358])"
      ]
     },
     "execution_count": 172,
     "metadata": {},
     "output_type": "execute_result"
    }
   ],
   "source": [
    "arr"
   ]
  },
  {
   "cell_type": "code",
   "execution_count": 173,
   "metadata": {},
   "outputs": [],
   "source": [
    "arr=np.random.randn(5,3)"
   ]
  },
  {
   "cell_type": "code",
   "execution_count": 174,
   "metadata": {},
   "outputs": [
    {
     "data": {
      "text/plain": [
       "array([[-0.13209656,  0.1902812 ,  0.17415731],\n",
       "       [-2.14667757, -1.79045866,  0.5911236 ],\n",
       "       [-0.73933433,  0.35042994,  0.39120236],\n",
       "       [ 0.15576616, -1.02716383,  0.28917649],\n",
       "       [-1.82109959,  0.1773643 , -1.22472507]])"
      ]
     },
     "execution_count": 174,
     "metadata": {},
     "output_type": "execute_result"
    }
   ],
   "source": [
    "arr"
   ]
  },
  {
   "cell_type": "code",
   "execution_count": 175,
   "metadata": {},
   "outputs": [],
   "source": [
    "arr.sort(1)"
   ]
  },
  {
   "cell_type": "code",
   "execution_count": 176,
   "metadata": {},
   "outputs": [
    {
     "data": {
      "text/plain": [
       "array([[-0.13209656,  0.17415731,  0.1902812 ],\n",
       "       [-2.14667757, -1.79045866,  0.5911236 ],\n",
       "       [-0.73933433,  0.35042994,  0.39120236],\n",
       "       [-1.02716383,  0.15576616,  0.28917649],\n",
       "       [-1.82109959, -1.22472507,  0.1773643 ]])"
      ]
     },
     "execution_count": 176,
     "metadata": {},
     "output_type": "execute_result"
    }
   ],
   "source": [
    "arr"
   ]
  },
  {
   "cell_type": "code",
   "execution_count": 188,
   "metadata": {},
   "outputs": [],
   "source": [
    "large_arr=np.random.randn(10)"
   ]
  },
  {
   "cell_type": "code",
   "execution_count": 190,
   "metadata": {},
   "outputs": [],
   "source": [
    "large_arr.sort()"
   ]
  },
  {
   "cell_type": "code",
   "execution_count": 191,
   "metadata": {},
   "outputs": [
    {
     "data": {
      "text/plain": [
       "-0.6595378449183422"
      ]
     },
     "execution_count": 191,
     "metadata": {},
     "output_type": "execute_result"
    }
   ],
   "source": [
    "large_arr[int(0.05*len(large_arr))]"
   ]
  },
  {
   "cell_type": "markdown",
   "metadata": {},
   "source": [
    "### 唯一化以及其他的集合逻辑"
   ]
  },
  {
   "cell_type": "code",
   "execution_count": 192,
   "metadata": {},
   "outputs": [],
   "source": [
    "names=np.array(['B','J','W','W','B','J'])"
   ]
  },
  {
   "cell_type": "code",
   "execution_count": 193,
   "metadata": {},
   "outputs": [
    {
     "data": {
      "text/plain": [
       "array(['B', 'J', 'W'], dtype='<U1')"
      ]
     },
     "execution_count": 193,
     "metadata": {},
     "output_type": "execute_result"
    }
   ],
   "source": [
    "np.unique(names)"
   ]
  },
  {
   "cell_type": "code",
   "execution_count": 194,
   "metadata": {},
   "outputs": [
    {
     "data": {
      "text/plain": [
       "array(['B', 'J', 'W', 'W', 'B', 'J'], dtype='<U1')"
      ]
     },
     "execution_count": 194,
     "metadata": {},
     "output_type": "execute_result"
    }
   ],
   "source": [
    "names"
   ]
  },
  {
   "cell_type": "markdown",
   "metadata": {},
   "source": [
    "## 4.4用于数组的文件输入输出"
   ]
  },
  {
   "cell_type": "code",
   "execution_count": 195,
   "metadata": {},
   "outputs": [],
   "source": [
    "arr=np.arange(10)"
   ]
  },
  {
   "cell_type": "code",
   "execution_count": 196,
   "metadata": {},
   "outputs": [],
   "source": [
    "np.save('some_array',arr)"
   ]
  },
  {
   "cell_type": "code",
   "execution_count": 197,
   "metadata": {},
   "outputs": [
    {
     "data": {
      "text/plain": [
       "array([0, 1, 2, 3, 4, 5, 6, 7, 8, 9])"
      ]
     },
     "execution_count": 197,
     "metadata": {},
     "output_type": "execute_result"
    }
   ],
   "source": [
    "np.load('some_array.npy')"
   ]
  },
  {
   "cell_type": "code",
   "execution_count": 198,
   "metadata": {},
   "outputs": [],
   "source": [
    "np.savez('array_archive.npz',a=arr,b=arr)"
   ]
  },
  {
   "cell_type": "code",
   "execution_count": 199,
   "metadata": {},
   "outputs": [],
   "source": [
    "arch=np.load('array_archive.npz')"
   ]
  },
  {
   "cell_type": "code",
   "execution_count": 200,
   "metadata": {},
   "outputs": [
    {
     "data": {
      "text/plain": [
       "array([0, 1, 2, 3, 4, 5, 6, 7, 8, 9])"
      ]
     },
     "execution_count": 200,
     "metadata": {},
     "output_type": "execute_result"
    }
   ],
   "source": [
    "arch['b']"
   ]
  },
  {
   "cell_type": "markdown",
   "metadata": {},
   "source": [
    "## 4.5线性代数"
   ]
  },
  {
   "cell_type": "code",
   "execution_count": 202,
   "metadata": {},
   "outputs": [],
   "source": [
    "x=np.array([[1.,2,3],[4,5,6]])"
   ]
  },
  {
   "cell_type": "code",
   "execution_count": 203,
   "metadata": {},
   "outputs": [],
   "source": [
    "y=np.array([[6.,23],[-1,7],[8,9]])"
   ]
  },
  {
   "cell_type": "code",
   "execution_count": 204,
   "metadata": {},
   "outputs": [
    {
     "ename": "NameError",
     "evalue": "name 'Y' is not defined",
     "output_type": "error",
     "traceback": [
      "\u001b[1;31m---------------------------------------------------------------------------\u001b[0m",
      "\u001b[1;31mNameError\u001b[0m                                 Traceback (most recent call last)",
      "\u001b[1;32m<ipython-input-204-903544da3e19>\u001b[0m in \u001b[0;36m<module>\u001b[1;34m\u001b[0m\n\u001b[1;32m----> 1\u001b[1;33m \u001b[0mx\u001b[0m\u001b[1;33m;\u001b[0m\u001b[0mY\u001b[0m\u001b[1;33m\u001b[0m\u001b[1;33m\u001b[0m\u001b[0m\n\u001b[0m",
      "\u001b[1;31mNameError\u001b[0m: name 'Y' is not defined"
     ]
    }
   ],
   "source": [
    "x;Y"
   ]
  },
  {
   "cell_type": "code",
   "execution_count": 205,
   "metadata": {},
   "outputs": [
    {
     "data": {
      "text/plain": [
       "array([[ 6., 23.],\n",
       "       [-1.,  7.],\n",
       "       [ 8.,  9.]])"
      ]
     },
     "execution_count": 205,
     "metadata": {},
     "output_type": "execute_result"
    }
   ],
   "source": [
    "x;y"
   ]
  },
  {
   "cell_type": "code",
   "execution_count": 206,
   "metadata": {},
   "outputs": [
    {
     "data": {
      "text/plain": [
       "array([[1., 2., 3.],\n",
       "       [4., 5., 6.]])"
      ]
     },
     "execution_count": 206,
     "metadata": {},
     "output_type": "execute_result"
    }
   ],
   "source": [
    "x"
   ]
  },
  {
   "cell_type": "code",
   "execution_count": 207,
   "metadata": {},
   "outputs": [
    {
     "data": {
      "text/plain": [
       "array([[ 6., 23.],\n",
       "       [-1.,  7.],\n",
       "       [ 8.,  9.]])"
      ]
     },
     "execution_count": 207,
     "metadata": {},
     "output_type": "execute_result"
    }
   ],
   "source": [
    "y"
   ]
  },
  {
   "cell_type": "code",
   "execution_count": 208,
   "metadata": {},
   "outputs": [
    {
     "data": {
      "text/plain": [
       "array([[ 28.,  64.],\n",
       "       [ 67., 181.]])"
      ]
     },
     "execution_count": 208,
     "metadata": {},
     "output_type": "execute_result"
    }
   ],
   "source": [
    "x.dot(y)"
   ]
  },
  {
   "cell_type": "code",
   "execution_count": 209,
   "metadata": {},
   "outputs": [
    {
     "data": {
      "text/plain": [
       "array([[ 28.,  64.],\n",
       "       [ 67., 181.]])"
      ]
     },
     "execution_count": 209,
     "metadata": {},
     "output_type": "execute_result"
    }
   ],
   "source": [
    "np.dot(x,y)"
   ]
  },
  {
   "cell_type": "code",
   "execution_count": 210,
   "metadata": {},
   "outputs": [
    {
     "data": {
      "text/plain": [
       "array([[ 28.,  64.],\n",
       "       [ 67., 181.]])"
      ]
     },
     "execution_count": 210,
     "metadata": {},
     "output_type": "execute_result"
    }
   ],
   "source": [
    "x @ y"
   ]
  },
  {
   "cell_type": "code",
   "execution_count": 211,
   "metadata": {},
   "outputs": [],
   "source": [
    "from numpy.linalg import inv, qr"
   ]
  },
  {
   "cell_type": "code",
   "execution_count": 212,
   "metadata": {},
   "outputs": [],
   "source": [
    "x=np.random.randn(5,5)"
   ]
  },
  {
   "cell_type": "code",
   "execution_count": 216,
   "metadata": {},
   "outputs": [],
   "source": [
    "mat=x.T.dot(x)"
   ]
  },
  {
   "cell_type": "code",
   "execution_count": 214,
   "metadata": {},
   "outputs": [
    {
     "data": {
      "text/plain": [
       "array([[-1.31204468, -0.2706581 , -0.29106864,  1.85608752, -0.05822722],\n",
       "       [ 1.09344888, -0.86073937,  0.13976055,  1.46655047,  1.08878753],\n",
       "       [ 2.9403721 ,  1.01758706, -0.98665436, -0.73775501,  1.0523627 ],\n",
       "       [ 1.79044261,  2.06680683, -1.61698523, -0.87744761,  0.02892331],\n",
       "       [-0.091041  , -1.60834342, -0.42300538, -1.46690043,  0.54214096]])"
      ]
     },
     "execution_count": 214,
     "metadata": {},
     "output_type": "execute_result"
    }
   ],
   "source": [
    "x"
   ]
  },
  {
   "cell_type": "code",
   "execution_count": 217,
   "metadata": {},
   "outputs": [
    {
     "data": {
      "text/plain": [
       "array([[14.77685299,  6.25294982, -5.22302329, -4.43841757,  4.36369661],\n",
       "       [ 6.25294982,  8.7080705 , -3.70718222, -1.96964786, -0.66270192],\n",
       "       [-5.22302329, -3.70718222,  3.87131558,  2.43195284, -1.14529769],\n",
       "       [-4.43841757, -1.96964786,  2.43195284,  9.06182482, -0.10834431],\n",
       "       [ 4.36369661, -0.66270192, -1.14529769, -0.10834431,  2.59106933]])"
      ]
     },
     "execution_count": 217,
     "metadata": {},
     "output_type": "execute_result"
    }
   ],
   "source": [
    "mat"
   ]
  },
  {
   "cell_type": "code",
   "execution_count": 218,
   "metadata": {},
   "outputs": [
    {
     "data": {
      "text/plain": [
       "array([[ 21.14009308, -21.04158053,  -9.91721165,   7.90378327,\n",
       "        -45.03742012],\n",
       "       [-21.04158053,  21.21463236,  10.21507218,  -7.89773368,\n",
       "         45.04768512],\n",
       "       [ -9.91721165,  10.21507218,   5.45432413,  -3.84303113,\n",
       "         21.5647279 ],\n",
       "       [  7.90378327,  -7.89773368,  -3.84303113,   3.09425101,\n",
       "        -16.90025242],\n",
       "       [-45.03742012,  45.04768512,  21.5647279 , -16.90025242,\n",
       "         96.58167339]])"
      ]
     },
     "execution_count": 218,
     "metadata": {},
     "output_type": "execute_result"
    }
   ],
   "source": [
    "inv(mat)"
   ]
  },
  {
   "cell_type": "code",
   "execution_count": 220,
   "metadata": {},
   "outputs": [
    {
     "data": {
      "text/plain": [
       "array([[ 1.00000000e+00, -1.44687583e-14, -7.74731854e-15,\n",
       "        -2.54967457e-15,  3.81192988e-15],\n",
       "       [-1.90831304e-14,  1.00000000e+00,  3.04672837e-15,\n",
       "         5.24746773e-15,  1.54243934e-14],\n",
       "       [ 1.76691240e-14,  2.04068512e-14,  1.00000000e+00,\n",
       "        -3.04152323e-15,  2.44868225e-14],\n",
       "       [ 4.75045442e-15,  1.72111253e-14,  1.44680138e-15,\n",
       "         1.00000000e+00,  2.54988229e-14],\n",
       "       [ 8.56760652e-15, -3.86925285e-14,  6.37540777e-15,\n",
       "         4.62954110e-15,  1.00000000e+00]])"
      ]
     },
     "execution_count": 220,
     "metadata": {},
     "output_type": "execute_result"
    }
   ],
   "source": [
    "mat.dot(inv(mat))"
   ]
  },
  {
   "cell_type": "markdown",
   "metadata": {},
   "source": [
    "## 4.6 伪随机生成"
   ]
  },
  {
   "cell_type": "code",
   "execution_count": 223,
   "metadata": {},
   "outputs": [],
   "source": [
    "samples=np.random.normal(size=(4,4))"
   ]
  },
  {
   "cell_type": "code",
   "execution_count": 224,
   "metadata": {},
   "outputs": [
    {
     "data": {
      "text/plain": [
       "array([[-0.16702332,  0.25167566, -0.73182918, -0.76784813],\n",
       "       [-1.45350988, -0.17350449, -1.15068109, -0.4236513 ],\n",
       "       [ 0.17480307, -0.22299478, -0.22700705, -0.70446131],\n",
       "       [-2.09046919, -0.08164752, -1.03375888, -0.01146762]])"
      ]
     },
     "execution_count": 224,
     "metadata": {},
     "output_type": "execute_result"
    }
   ],
   "source": [
    "samples"
   ]
  },
  {
   "cell_type": "code",
   "execution_count": 225,
   "metadata": {},
   "outputs": [
    {
     "ename": "AttributeError",
     "evalue": "'NoneType' object has no attribute 'randn'",
     "output_type": "error",
     "traceback": [
      "\u001b[1;31m---------------------------------------------------------------------------\u001b[0m",
      "\u001b[1;31mAttributeError\u001b[0m                            Traceback (most recent call last)",
      "\u001b[1;32m<ipython-input-225-88c1b6554022>\u001b[0m in \u001b[0;36m<module>\u001b[1;34m\u001b[0m\n\u001b[1;32m----> 1\u001b[1;33m \u001b[0msamples\u001b[0m\u001b[1;33m=\u001b[0m\u001b[0mnp\u001b[0m\u001b[1;33m.\u001b[0m\u001b[0mrandom\u001b[0m\u001b[1;33m.\u001b[0m\u001b[0mseed\u001b[0m\u001b[1;33m(\u001b[0m\u001b[1;36m123\u001b[0m\u001b[1;33m)\u001b[0m\u001b[1;33m.\u001b[0m\u001b[0mrandn\u001b[0m\u001b[1;33m(\u001b[0m\u001b[1;36m10\u001b[0m\u001b[1;33m)\u001b[0m\u001b[1;33m\u001b[0m\u001b[1;33m\u001b[0m\u001b[0m\n\u001b[0m",
      "\u001b[1;31mAttributeError\u001b[0m: 'NoneType' object has no attribute 'randn'"
     ]
    }
   ],
   "source": [
    "samples=np.random.seed(123).randn(10)"
   ]
  },
  {
   "cell_type": "code",
   "execution_count": 226,
   "metadata": {},
   "outputs": [],
   "source": [
    "samples=np.random.randn(10)"
   ]
  },
  {
   "cell_type": "code",
   "execution_count": 227,
   "metadata": {},
   "outputs": [
    {
     "data": {
      "text/plain": [
       "array([-1.0856306 ,  0.99734545,  0.2829785 , -1.50629471, -0.57860025,\n",
       "        1.65143654, -2.42667924, -0.42891263,  1.26593626, -0.8667404 ])"
      ]
     },
     "execution_count": 227,
     "metadata": {},
     "output_type": "execute_result"
    }
   ],
   "source": [
    "samples"
   ]
  },
  {
   "cell_type": "code",
   "execution_count": 228,
   "metadata": {},
   "outputs": [],
   "source": [
    "np.random.seed(1234)"
   ]
  },
  {
   "cell_type": "code",
   "execution_count": 229,
   "metadata": {},
   "outputs": [],
   "source": [
    "samples=np.random.randn(10)"
   ]
  },
  {
   "cell_type": "code",
   "execution_count": 230,
   "metadata": {},
   "outputs": [
    {
     "data": {
      "text/plain": [
       "array([ 0.47143516, -1.19097569,  1.43270697, -0.3126519 , -0.72058873,\n",
       "        0.88716294,  0.85958841, -0.6365235 ,  0.01569637, -2.24268495])"
      ]
     },
     "execution_count": 230,
     "metadata": {},
     "output_type": "execute_result"
    }
   ],
   "source": [
    "samples"
   ]
  },
  {
   "cell_type": "code",
   "execution_count": 231,
   "metadata": {},
   "outputs": [],
   "source": [
    "samples=np.random.randn(10)"
   ]
  },
  {
   "cell_type": "code",
   "execution_count": 232,
   "metadata": {},
   "outputs": [
    {
     "data": {
      "text/plain": [
       "array([ 1.15003572,  0.99194602,  0.95332413, -2.02125482, -0.33407737,\n",
       "        0.00211836,  0.40545341,  0.28909194,  1.32115819, -1.54690555])"
      ]
     },
     "execution_count": 232,
     "metadata": {},
     "output_type": "execute_result"
    }
   ],
   "source": [
    "samples"
   ]
  },
  {
   "cell_type": "code",
   "execution_count": 233,
   "metadata": {},
   "outputs": [],
   "source": [
    "np.random.seed(1234)"
   ]
  },
  {
   "cell_type": "code",
   "execution_count": 234,
   "metadata": {},
   "outputs": [],
   "source": [
    "samples=np.random.randn(10)"
   ]
  },
  {
   "cell_type": "code",
   "execution_count": 235,
   "metadata": {},
   "outputs": [
    {
     "data": {
      "text/plain": [
       "array([ 0.47143516, -1.19097569,  1.43270697, -0.3126519 , -0.72058873,\n",
       "        0.88716294,  0.85958841, -0.6365235 ,  0.01569637, -2.24268495])"
      ]
     },
     "execution_count": 235,
     "metadata": {},
     "output_type": "execute_result"
    }
   ],
   "source": [
    "samples"
   ]
  },
  {
   "cell_type": "code",
   "execution_count": 236,
   "metadata": {},
   "outputs": [],
   "source": [
    "samples=np.random.randn(10)"
   ]
  },
  {
   "cell_type": "code",
   "execution_count": 237,
   "metadata": {},
   "outputs": [
    {
     "data": {
      "text/plain": [
       "array([ 1.15003572,  0.99194602,  0.95332413, -2.02125482, -0.33407737,\n",
       "        0.00211836,  0.40545341,  0.28909194,  1.32115819, -1.54690555])"
      ]
     },
     "execution_count": 237,
     "metadata": {},
     "output_type": "execute_result"
    }
   ],
   "source": [
    "samples"
   ]
  },
  {
   "cell_type": "markdown",
   "metadata": {},
   "source": [
    "## 4.7 示例：随机漫步"
   ]
  },
  {
   "cell_type": "code",
   "execution_count": 238,
   "metadata": {},
   "outputs": [],
   "source": [
    "import random"
   ]
  },
  {
   "cell_type": "code",
   "execution_count": 239,
   "metadata": {},
   "outputs": [],
   "source": [
    "position=0"
   ]
  },
  {
   "cell_type": "code",
   "execution_count": 240,
   "metadata": {},
   "outputs": [],
   "source": [
    "walk=[position]"
   ]
  },
  {
   "cell_type": "code",
   "execution_count": 241,
   "metadata": {},
   "outputs": [],
   "source": [
    "steps=1000"
   ]
  },
  {
   "cell_type": "code",
   "execution_count": 242,
   "metadata": {},
   "outputs": [],
   "source": [
    "for i in range(steps):\n",
    "    step=1 if random.randint(0,1) else -1\n",
    "    position += step\n",
    "    walk.append(position)"
   ]
  },
  {
   "cell_type": "code",
   "execution_count": 243,
   "metadata": {},
   "outputs": [
    {
     "data": {
      "text/plain": [
       "[0,\n",
       " -1,\n",
       " 0,\n",
       " -1,\n",
       " 0,\n",
       " -1,\n",
       " -2,\n",
       " -3,\n",
       " -4,\n",
       " -3,\n",
       " -2,\n",
       " -3,\n",
       " -2,\n",
       " -3,\n",
       " -4,\n",
       " -3,\n",
       " -4,\n",
       " -5,\n",
       " -6,\n",
       " -5,\n",
       " -4,\n",
       " -3,\n",
       " -2,\n",
       " -3,\n",
       " -4,\n",
       " -5,\n",
       " -4,\n",
       " -3,\n",
       " -4,\n",
       " -5,\n",
       " -4,\n",
       " -5,\n",
       " -6,\n",
       " -5,\n",
       " -6,\n",
       " -5,\n",
       " -4,\n",
       " -5,\n",
       " -4,\n",
       " -5,\n",
       " -4,\n",
       " -5,\n",
       " -6,\n",
       " -7,\n",
       " -8,\n",
       " -7,\n",
       " -8,\n",
       " -9,\n",
       " -10,\n",
       " -9,\n",
       " -8,\n",
       " -7,\n",
       " -8,\n",
       " -7,\n",
       " -8,\n",
       " -7,\n",
       " -8,\n",
       " -9,\n",
       " -10,\n",
       " -11,\n",
       " -12,\n",
       " -13,\n",
       " -14,\n",
       " -13,\n",
       " -14,\n",
       " -13,\n",
       " -12,\n",
       " -11,\n",
       " -12,\n",
       " -13,\n",
       " -12,\n",
       " -11,\n",
       " -12,\n",
       " -13,\n",
       " -14,\n",
       " -13,\n",
       " -14,\n",
       " -13,\n",
       " -12,\n",
       " -13,\n",
       " -14,\n",
       " -13,\n",
       " -12,\n",
       " -11,\n",
       " -12,\n",
       " -13,\n",
       " -14,\n",
       " -13,\n",
       " -14,\n",
       " -15,\n",
       " -16,\n",
       " -17,\n",
       " -16,\n",
       " -17,\n",
       " -16,\n",
       " -17,\n",
       " -16,\n",
       " -17,\n",
       " -18,\n",
       " -19,\n",
       " -18,\n",
       " -19,\n",
       " -20,\n",
       " -21,\n",
       " -22,\n",
       " -23,\n",
       " -24,\n",
       " -25,\n",
       " -24,\n",
       " -23,\n",
       " -24,\n",
       " -23,\n",
       " -24,\n",
       " -25,\n",
       " -24,\n",
       " -25,\n",
       " -26,\n",
       " -25,\n",
       " -24,\n",
       " -25,\n",
       " -24,\n",
       " -23,\n",
       " -22,\n",
       " -23,\n",
       " -22,\n",
       " -23,\n",
       " -22,\n",
       " -21,\n",
       " -20,\n",
       " -21,\n",
       " -22,\n",
       " -23,\n",
       " -24,\n",
       " -23,\n",
       " -24,\n",
       " -25,\n",
       " -26,\n",
       " -27,\n",
       " -26,\n",
       " -27,\n",
       " -26,\n",
       " -27,\n",
       " -26,\n",
       " -27,\n",
       " -28,\n",
       " -29,\n",
       " -30,\n",
       " -31,\n",
       " -32,\n",
       " -33,\n",
       " -32,\n",
       " -33,\n",
       " -34,\n",
       " -33,\n",
       " -32,\n",
       " -31,\n",
       " -32,\n",
       " -31,\n",
       " -32,\n",
       " -33,\n",
       " -34,\n",
       " -35,\n",
       " -34,\n",
       " -33,\n",
       " -32,\n",
       " -33,\n",
       " -34,\n",
       " -35,\n",
       " -34,\n",
       " -35,\n",
       " -36,\n",
       " -37,\n",
       " -36,\n",
       " -37,\n",
       " -36,\n",
       " -37,\n",
       " -38,\n",
       " -37,\n",
       " -38,\n",
       " -39,\n",
       " -38,\n",
       " -37,\n",
       " -38,\n",
       " -37,\n",
       " -36,\n",
       " -35,\n",
       " -36,\n",
       " -37,\n",
       " -38,\n",
       " -39,\n",
       " -40,\n",
       " -41,\n",
       " -40,\n",
       " -41,\n",
       " -42,\n",
       " -41,\n",
       " -40,\n",
       " -39,\n",
       " -40,\n",
       " -39,\n",
       " -38,\n",
       " -37,\n",
       " -38,\n",
       " -39,\n",
       " -38,\n",
       " -37,\n",
       " -38,\n",
       " -37,\n",
       " -36,\n",
       " -35,\n",
       " -36,\n",
       " -37,\n",
       " -36,\n",
       " -37,\n",
       " -36,\n",
       " -37,\n",
       " -36,\n",
       " -37,\n",
       " -36,\n",
       " -35,\n",
       " -36,\n",
       " -35,\n",
       " -36,\n",
       " -37,\n",
       " -38,\n",
       " -39,\n",
       " -38,\n",
       " -39,\n",
       " -40,\n",
       " -39,\n",
       " -40,\n",
       " -41,\n",
       " -40,\n",
       " -39,\n",
       " -38,\n",
       " -39,\n",
       " -38,\n",
       " -39,\n",
       " -38,\n",
       " -39,\n",
       " -40,\n",
       " -41,\n",
       " -42,\n",
       " -41,\n",
       " -42,\n",
       " -43,\n",
       " -44,\n",
       " -45,\n",
       " -44,\n",
       " -45,\n",
       " -44,\n",
       " -43,\n",
       " -44,\n",
       " -43,\n",
       " -42,\n",
       " -43,\n",
       " -44,\n",
       " -45,\n",
       " -46,\n",
       " -45,\n",
       " -46,\n",
       " -45,\n",
       " -44,\n",
       " -43,\n",
       " -44,\n",
       " -43,\n",
       " -44,\n",
       " -45,\n",
       " -46,\n",
       " -45,\n",
       " -44,\n",
       " -45,\n",
       " -46,\n",
       " -47,\n",
       " -48,\n",
       " -47,\n",
       " -46,\n",
       " -45,\n",
       " -44,\n",
       " -43,\n",
       " -44,\n",
       " -43,\n",
       " -42,\n",
       " -41,\n",
       " -42,\n",
       " -43,\n",
       " -44,\n",
       " -45,\n",
       " -46,\n",
       " -47,\n",
       " -48,\n",
       " -47,\n",
       " -46,\n",
       " -47,\n",
       " -48,\n",
       " -49,\n",
       " -48,\n",
       " -47,\n",
       " -46,\n",
       " -45,\n",
       " -44,\n",
       " -43,\n",
       " -44,\n",
       " -43,\n",
       " -42,\n",
       " -43,\n",
       " -44,\n",
       " -45,\n",
       " -44,\n",
       " -45,\n",
       " -44,\n",
       " -43,\n",
       " -42,\n",
       " -41,\n",
       " -40,\n",
       " -39,\n",
       " -38,\n",
       " -37,\n",
       " -36,\n",
       " -35,\n",
       " -36,\n",
       " -35,\n",
       " -36,\n",
       " -35,\n",
       " -34,\n",
       " -33,\n",
       " -32,\n",
       " -31,\n",
       " -30,\n",
       " -29,\n",
       " -28,\n",
       " -29,\n",
       " -28,\n",
       " -27,\n",
       " -28,\n",
       " -27,\n",
       " -28,\n",
       " -29,\n",
       " -28,\n",
       " -29,\n",
       " -28,\n",
       " -27,\n",
       " -28,\n",
       " -27,\n",
       " -26,\n",
       " -25,\n",
       " -26,\n",
       " -25,\n",
       " -24,\n",
       " -23,\n",
       " -22,\n",
       " -21,\n",
       " -20,\n",
       " -19,\n",
       " -20,\n",
       " -21,\n",
       " -22,\n",
       " -23,\n",
       " -22,\n",
       " -23,\n",
       " -22,\n",
       " -21,\n",
       " -20,\n",
       " -19,\n",
       " -18,\n",
       " -19,\n",
       " -18,\n",
       " -17,\n",
       " -16,\n",
       " -15,\n",
       " -16,\n",
       " -15,\n",
       " -14,\n",
       " -13,\n",
       " -14,\n",
       " -13,\n",
       " -12,\n",
       " -13,\n",
       " -14,\n",
       " -15,\n",
       " -16,\n",
       " -15,\n",
       " -14,\n",
       " -13,\n",
       " -14,\n",
       " -13,\n",
       " -12,\n",
       " -11,\n",
       " -10,\n",
       " -11,\n",
       " -10,\n",
       " -9,\n",
       " -8,\n",
       " -7,\n",
       " -8,\n",
       " -7,\n",
       " -6,\n",
       " -5,\n",
       " -6,\n",
       " -5,\n",
       " -4,\n",
       " -5,\n",
       " -6,\n",
       " -5,\n",
       " -4,\n",
       " -5,\n",
       " -6,\n",
       " -7,\n",
       " -8,\n",
       " -9,\n",
       " -8,\n",
       " -7,\n",
       " -6,\n",
       " -7,\n",
       " -6,\n",
       " -7,\n",
       " -6,\n",
       " -7,\n",
       " -6,\n",
       " -7,\n",
       " -8,\n",
       " -7,\n",
       " -8,\n",
       " -7,\n",
       " -8,\n",
       " -7,\n",
       " -8,\n",
       " -7,\n",
       " -6,\n",
       " -5,\n",
       " -4,\n",
       " -5,\n",
       " -4,\n",
       " -5,\n",
       " -6,\n",
       " -7,\n",
       " -6,\n",
       " -7,\n",
       " -6,\n",
       " -7,\n",
       " -8,\n",
       " -7,\n",
       " -8,\n",
       " -7,\n",
       " -6,\n",
       " -5,\n",
       " -4,\n",
       " -5,\n",
       " -4,\n",
       " -3,\n",
       " -2,\n",
       " -1,\n",
       " 0,\n",
       " -1,\n",
       " 0,\n",
       " -1,\n",
       " -2,\n",
       " -1,\n",
       " 0,\n",
       " -1,\n",
       " 0,\n",
       " -1,\n",
       " 0,\n",
       " 1,\n",
       " 0,\n",
       " -1,\n",
       " 0,\n",
       " -1,\n",
       " -2,\n",
       " -3,\n",
       " -2,\n",
       " -3,\n",
       " -2,\n",
       " -3,\n",
       " -4,\n",
       " -3,\n",
       " -2,\n",
       " -3,\n",
       " -4,\n",
       " -3,\n",
       " -2,\n",
       " -3,\n",
       " -4,\n",
       " -3,\n",
       " -2,\n",
       " -1,\n",
       " -2,\n",
       " -1,\n",
       " 0,\n",
       " 1,\n",
       " 2,\n",
       " 3,\n",
       " 4,\n",
       " 5,\n",
       " 6,\n",
       " 7,\n",
       " 8,\n",
       " 7,\n",
       " 8,\n",
       " 7,\n",
       " 6,\n",
       " 5,\n",
       " 6,\n",
       " 5,\n",
       " 6,\n",
       " 5,\n",
       " 6,\n",
       " 5,\n",
       " 6,\n",
       " 7,\n",
       " 8,\n",
       " 9,\n",
       " 10,\n",
       " 9,\n",
       " 8,\n",
       " 7,\n",
       " 8,\n",
       " 7,\n",
       " 6,\n",
       " 7,\n",
       " 6,\n",
       " 7,\n",
       " 8,\n",
       " 9,\n",
       " 10,\n",
       " 9,\n",
       " 8,\n",
       " 9,\n",
       " 8,\n",
       " 9,\n",
       " 8,\n",
       " 9,\n",
       " 8,\n",
       " 7,\n",
       " 8,\n",
       " 9,\n",
       " 8,\n",
       " 9,\n",
       " 10,\n",
       " 11,\n",
       " 12,\n",
       " 11,\n",
       " 10,\n",
       " 11,\n",
       " 10,\n",
       " 11,\n",
       " 10,\n",
       " 11,\n",
       " 10,\n",
       " 11,\n",
       " 10,\n",
       " 9,\n",
       " 10,\n",
       " 11,\n",
       " 10,\n",
       " 9,\n",
       " 8,\n",
       " 9,\n",
       " 10,\n",
       " 11,\n",
       " 10,\n",
       " 11,\n",
       " 12,\n",
       " 11,\n",
       " 10,\n",
       " 9,\n",
       " 8,\n",
       " 9,\n",
       " 10,\n",
       " 9,\n",
       " 10,\n",
       " 11,\n",
       " 12,\n",
       " 13,\n",
       " 12,\n",
       " 11,\n",
       " 12,\n",
       " 11,\n",
       " 10,\n",
       " 9,\n",
       " 8,\n",
       " 9,\n",
       " 8,\n",
       " 9,\n",
       " 10,\n",
       " 11,\n",
       " 12,\n",
       " 13,\n",
       " 14,\n",
       " 13,\n",
       " 14,\n",
       " 13,\n",
       " 14,\n",
       " 13,\n",
       " 14,\n",
       " 13,\n",
       " 14,\n",
       " 15,\n",
       " 16,\n",
       " 15,\n",
       " 16,\n",
       " 15,\n",
       " 16,\n",
       " 17,\n",
       " 18,\n",
       " 19,\n",
       " 20,\n",
       " 19,\n",
       " 18,\n",
       " 19,\n",
       " 20,\n",
       " 21,\n",
       " 22,\n",
       " 21,\n",
       " 22,\n",
       " 21,\n",
       " 22,\n",
       " 23,\n",
       " 22,\n",
       " 23,\n",
       " 24,\n",
       " 23,\n",
       " 24,\n",
       " 25,\n",
       " 26,\n",
       " 25,\n",
       " 24,\n",
       " 23,\n",
       " 22,\n",
       " 21,\n",
       " 20,\n",
       " 19,\n",
       " 20,\n",
       " 19,\n",
       " 18,\n",
       " 19,\n",
       " 20,\n",
       " 21,\n",
       " 22,\n",
       " 21,\n",
       " 20,\n",
       " 19,\n",
       " 18,\n",
       " 17,\n",
       " 18,\n",
       " 19,\n",
       " 20,\n",
       " 21,\n",
       " 22,\n",
       " 23,\n",
       " 24,\n",
       " 23,\n",
       " 22,\n",
       " 21,\n",
       " 20,\n",
       " 21,\n",
       " 20,\n",
       " 21,\n",
       " 20,\n",
       " 21,\n",
       " 22,\n",
       " 21,\n",
       " 22,\n",
       " 23,\n",
       " 22,\n",
       " 23,\n",
       " 22,\n",
       " 23,\n",
       " 22,\n",
       " 23,\n",
       " 22,\n",
       " 23,\n",
       " 24,\n",
       " 25,\n",
       " 24,\n",
       " 25,\n",
       " 24,\n",
       " 23,\n",
       " 22,\n",
       " 23,\n",
       " 24,\n",
       " 23,\n",
       " 22,\n",
       " 23,\n",
       " 24,\n",
       " 25,\n",
       " 24,\n",
       " 23,\n",
       " 22,\n",
       " 21,\n",
       " 20,\n",
       " 19,\n",
       " 20,\n",
       " 21,\n",
       " 20,\n",
       " 21,\n",
       " 22,\n",
       " 23,\n",
       " 24,\n",
       " 25,\n",
       " 26,\n",
       " 25,\n",
       " 24,\n",
       " 23,\n",
       " 24,\n",
       " 25,\n",
       " 26,\n",
       " 27,\n",
       " 28,\n",
       " 27,\n",
       " 28,\n",
       " 27,\n",
       " 26,\n",
       " 27,\n",
       " 26,\n",
       " 25,\n",
       " 26,\n",
       " 25,\n",
       " 26,\n",
       " 27,\n",
       " 26,\n",
       " 27,\n",
       " 26,\n",
       " 27,\n",
       " 28,\n",
       " 27,\n",
       " 26,\n",
       " 25,\n",
       " 26,\n",
       " 25,\n",
       " 26,\n",
       " 25,\n",
       " 26,\n",
       " 25,\n",
       " 24,\n",
       " 25,\n",
       " 26,\n",
       " 25,\n",
       " 26,\n",
       " 25,\n",
       " 24,\n",
       " 25,\n",
       " 24,\n",
       " 23,\n",
       " 22,\n",
       " 23,\n",
       " 22,\n",
       " 21,\n",
       " 20,\n",
       " 19,\n",
       " 18,\n",
       " 19,\n",
       " 20,\n",
       " 21,\n",
       " 22,\n",
       " 21,\n",
       " 22,\n",
       " 21,\n",
       " 20,\n",
       " 19,\n",
       " 18,\n",
       " 19,\n",
       " 18,\n",
       " 17,\n",
       " 18,\n",
       " 19,\n",
       " 18,\n",
       " 17,\n",
       " 18,\n",
       " 19,\n",
       " 20,\n",
       " 19,\n",
       " 20,\n",
       " 19,\n",
       " 18,\n",
       " 17,\n",
       " 16,\n",
       " 17,\n",
       " 16,\n",
       " 17,\n",
       " 18,\n",
       " 19,\n",
       " 20,\n",
       " 19,\n",
       " 20,\n",
       " 19,\n",
       " 18,\n",
       " 17,\n",
       " 18,\n",
       " 19,\n",
       " 20,\n",
       " 21,\n",
       " 20,\n",
       " 19,\n",
       " 18,\n",
       " 17,\n",
       " 16,\n",
       " 17,\n",
       " 16,\n",
       " 17,\n",
       " 16,\n",
       " 15,\n",
       " 14,\n",
       " 15,\n",
       " 14,\n",
       " 13,\n",
       " 14,\n",
       " 13,\n",
       " 12,\n",
       " 11,\n",
       " 12,\n",
       " 13,\n",
       " 14,\n",
       " 13,\n",
       " 14,\n",
       " 15,\n",
       " 16,\n",
       " 17,\n",
       " 18,\n",
       " 19,\n",
       " 18,\n",
       " 19,\n",
       " 18,\n",
       " 17,\n",
       " 18,\n",
       " 17,\n",
       " 16,\n",
       " 17,\n",
       " 18,\n",
       " 17,\n",
       " 18,\n",
       " 17,\n",
       " 16,\n",
       " 17,\n",
       " 18,\n",
       " 19,\n",
       " 18,\n",
       " 19,\n",
       " 20,\n",
       " 21,\n",
       " 20,\n",
       " 21,\n",
       " 22,\n",
       " 23,\n",
       " 24,\n",
       " 25,\n",
       " 24,\n",
       " 23,\n",
       " 22,\n",
       " 21,\n",
       " 20,\n",
       " 19,\n",
       " 20,\n",
       " 19,\n",
       " 20,\n",
       " 19,\n",
       " 20,\n",
       " 21,\n",
       " 22,\n",
       " 23,\n",
       " 24,\n",
       " 23,\n",
       " 22,\n",
       " 23,\n",
       " 24,\n",
       " 23,\n",
       " 24,\n",
       " 25,\n",
       " 24,\n",
       " 25,\n",
       " 24,\n",
       " 23,\n",
       " 22,\n",
       " 21,\n",
       " 22,\n",
       " 21,\n",
       " 22,\n",
       " 21,\n",
       " 22,\n",
       " 21,\n",
       " 22,\n",
       " 23,\n",
       " 22,\n",
       " 21,\n",
       " 22,\n",
       " 23,\n",
       " 22,\n",
       " 23,\n",
       " 24,\n",
       " 25,\n",
       " 24,\n",
       " 23,\n",
       " 22,\n",
       " 21,\n",
       " 20,\n",
       " 19,\n",
       " 20,\n",
       " 21,\n",
       " 20,\n",
       " 21,\n",
       " 22,\n",
       " 21,\n",
       " 20,\n",
       " 19,\n",
       " 20,\n",
       " 21,\n",
       " 22,\n",
       " 21,\n",
       " 22,\n",
       " 21,\n",
       " 22,\n",
       " 21,\n",
       " 22,\n",
       " 23,\n",
       " 24,\n",
       " 23,\n",
       " 22,\n",
       " 23,\n",
       " 22,\n",
       " 21,\n",
       " 22,\n",
       " 23,\n",
       " 22,\n",
       " 21,\n",
       " 22,\n",
       " 23,\n",
       " 22,\n",
       " 23,\n",
       " 22,\n",
       " 23,\n",
       " 22,\n",
       " 21,\n",
       " 22,\n",
       " 21,\n",
       " 20,\n",
       " 21,\n",
       " 20,\n",
       " 19,\n",
       " 20,\n",
       " 19,\n",
       " 18,\n",
       " 19,\n",
       " 20,\n",
       " 19,\n",
       " 20,\n",
       " 19,\n",
       " 20,\n",
       " 21,\n",
       " 20,\n",
       " 21,\n",
       " 20,\n",
       " 19,\n",
       " 18,\n",
       " 19,\n",
       " 18,\n",
       " 19,\n",
       " 20,\n",
       " 19,\n",
       " 18,\n",
       " 17,\n",
       " 18,\n",
       " 19,\n",
       " 18,\n",
       " 19,\n",
       " 20,\n",
       " 21,\n",
       " 22,\n",
       " 23,\n",
       " 22,\n",
       " 21,\n",
       " 22,\n",
       " 23,\n",
       " 22,\n",
       " 21,\n",
       " 22,\n",
       " 21,\n",
       " 22,\n",
       " 21,\n",
       " 20,\n",
       " 19,\n",
       " 18,\n",
       " 17,\n",
       " 16,\n",
       " 17,\n",
       " 18,\n",
       " 17,\n",
       " 16,\n",
       " 15,\n",
       " 14,\n",
       " 13,\n",
       " 12,\n",
       " 13,\n",
       " 14,\n",
       " 15,\n",
       " 14,\n",
       " 13,\n",
       " 12,\n",
       " 11,\n",
       " 10,\n",
       " 9,\n",
       " ...]"
      ]
     },
     "execution_count": 243,
     "metadata": {},
     "output_type": "execute_result"
    }
   ],
   "source": [
    "walk"
   ]
  },
  {
   "cell_type": "code",
   "execution_count": 246,
   "metadata": {},
   "outputs": [
    {
     "data": {
      "text/plain": [
       "[<matplotlib.lines.Line2D at 0x2512779b550>]"
      ]
     },
     "execution_count": 246,
     "metadata": {},
     "output_type": "execute_result"
    },
    {
     "data": {
      "image/png": "[encoded data removed]",
      "text/plain": [
       "<Figure size 432x288 with 1 Axes>"
      ]
     },
     "metadata": {
      "needs_background": "light"
     },
     "output_type": "display_data"
    }
   ],
   "source": [
    "plt.plot(walk[0:100])"
   ]
  },
  {
   "cell_type": "code",
   "execution_count": 247,
   "metadata": {},
   "outputs": [],
   "source": [
    "nsteps=1000"
   ]
  },
  {
   "cell_type": "code",
   "execution_count": 250,
   "metadata": {},
   "outputs": [],
   "source": [
    "draws=np.random.randint(0,2,size=nsteps)"
   ]
  },
  {
   "cell_type": "code",
   "execution_count": 251,
   "metadata": {},
   "outputs": [],
   "source": [
    "steps=np.where(draws>0,1,-1)"
   ]
  },
  {
   "cell_type": "code",
   "execution_count": 252,
   "metadata": {},
   "outputs": [
    {
     "data": {
      "text/plain": [
       "array([-1,  1,  1, -1, -1,  1,  1,  1, -1,  1, -1, -1,  1, -1,  1, -1, -1,\n",
       "        1,  1, -1, -1, -1,  1,  1,  1,  1,  1, -1,  1,  1,  1,  1, -1,  1,\n",
       "       -1, -1, -1,  1,  1, -1, -1, -1, -1, -1, -1, -1, -1,  1,  1,  1,  1,\n",
       "        1,  1, -1,  1,  1, -1,  1,  1,  1, -1,  1, -1, -1,  1,  1,  1,  1,\n",
       "       -1, -1,  1,  1, -1,  1, -1,  1,  1,  1,  1, -1,  1, -1, -1,  1,  1,\n",
       "        1,  1,  1,  1,  1, -1,  1,  1,  1, -1,  1,  1, -1, -1, -1, -1, -1,\n",
       "        1, -1, -1,  1, -1,  1,  1, -1,  1, -1,  1,  1, -1,  1, -1,  1, -1,\n",
       "       -1,  1, -1,  1, -1, -1, -1, -1, -1,  1,  1,  1, -1, -1, -1, -1,  1,\n",
       "        1, -1,  1,  1,  1,  1, -1,  1, -1,  1, -1, -1,  1, -1, -1, -1,  1,\n",
       "        1, -1, -1, -1,  1, -1, -1, -1,  1,  1,  1,  1,  1,  1,  1,  1,  1,\n",
       "        1,  1,  1,  1,  1, -1,  1,  1,  1, -1, -1,  1,  1, -1,  1, -1,  1,\n",
       "       -1, -1, -1, -1,  1,  1, -1, -1, -1, -1,  1,  1, -1, -1, -1,  1,  1,\n",
       "        1, -1,  1, -1,  1,  1, -1, -1,  1,  1,  1, -1, -1,  1, -1, -1, -1,\n",
       "       -1, -1, -1,  1, -1, -1,  1, -1, -1,  1,  1,  1, -1, -1, -1, -1, -1,\n",
       "       -1, -1, -1, -1, -1, -1, -1, -1,  1, -1, -1,  1, -1, -1,  1, -1, -1,\n",
       "       -1, -1,  1, -1,  1, -1,  1,  1, -1, -1,  1,  1, -1,  1, -1, -1, -1,\n",
       "       -1, -1, -1,  1, -1, -1,  1, -1,  1,  1,  1,  1,  1,  1,  1, -1, -1,\n",
       "       -1,  1,  1, -1, -1, -1, -1,  1, -1,  1, -1,  1,  1, -1,  1,  1, -1,\n",
       "        1, -1,  1, -1,  1,  1, -1, -1, -1, -1,  1,  1, -1,  1,  1,  1,  1,\n",
       "       -1,  1,  1,  1,  1,  1, -1, -1, -1, -1,  1,  1, -1, -1,  1, -1,  1,\n",
       "        1, -1, -1,  1,  1,  1, -1,  1,  1, -1, -1,  1, -1,  1,  1,  1,  1,\n",
       "       -1, -1,  1,  1, -1,  1,  1,  1,  1,  1,  1, -1, -1, -1,  1,  1,  1,\n",
       "        1,  1,  1, -1,  1, -1, -1,  1, -1,  1, -1,  1,  1, -1,  1,  1,  1,\n",
       "        1, -1,  1,  1, -1, -1,  1, -1, -1, -1,  1,  1, -1,  1,  1, -1,  1,\n",
       "        1,  1, -1,  1,  1,  1, -1,  1, -1,  1, -1,  1, -1, -1, -1, -1, -1,\n",
       "        1,  1, -1, -1,  1, -1, -1, -1,  1,  1, -1,  1,  1, -1, -1, -1,  1,\n",
       "        1, -1, -1,  1,  1, -1, -1,  1, -1,  1,  1, -1,  1, -1, -1,  1,  1,\n",
       "       -1,  1,  1, -1,  1, -1,  1, -1,  1,  1, -1,  1, -1,  1, -1, -1, -1,\n",
       "        1,  1,  1, -1, -1, -1,  1, -1,  1,  1,  1, -1,  1,  1,  1, -1,  1,\n",
       "       -1, -1, -1, -1,  1, -1,  1, -1,  1, -1, -1,  1, -1, -1,  1, -1,  1,\n",
       "        1,  1, -1,  1, -1,  1, -1, -1,  1, -1,  1,  1,  1, -1,  1, -1,  1,\n",
       "       -1, -1,  1, -1, -1, -1,  1, -1, -1,  1, -1,  1,  1,  1,  1, -1,  1,\n",
       "       -1,  1, -1,  1,  1,  1,  1, -1,  1, -1, -1, -1,  1, -1, -1, -1,  1,\n",
       "        1, -1, -1, -1, -1,  1, -1, -1, -1, -1,  1, -1,  1,  1, -1,  1,  1,\n",
       "        1,  1,  1,  1, -1, -1, -1,  1,  1,  1,  1, -1, -1, -1, -1,  1,  1,\n",
       "       -1, -1,  1, -1,  1,  1, -1,  1, -1,  1,  1, -1, -1, -1, -1, -1,  1,\n",
       "       -1, -1,  1,  1,  1, -1, -1, -1, -1,  1, -1,  1,  1, -1, -1,  1,  1,\n",
       "       -1, -1,  1,  1,  1,  1,  1, -1, -1, -1,  1, -1,  1, -1, -1, -1, -1,\n",
       "        1,  1, -1, -1, -1,  1, -1, -1, -1,  1,  1,  1,  1, -1,  1, -1,  1,\n",
       "       -1,  1, -1, -1, -1, -1,  1,  1,  1, -1,  1,  1,  1,  1, -1,  1,  1,\n",
       "       -1,  1,  1,  1,  1,  1, -1, -1,  1,  1, -1, -1, -1,  1,  1,  1, -1,\n",
       "       -1,  1, -1,  1,  1, -1, -1, -1,  1,  1, -1, -1, -1, -1,  1, -1,  1,\n",
       "       -1, -1,  1,  1, -1, -1,  1, -1,  1,  1,  1, -1,  1,  1, -1, -1, -1,\n",
       "       -1, -1,  1, -1, -1, -1, -1,  1, -1,  1, -1, -1, -1, -1, -1,  1, -1,\n",
       "        1,  1,  1, -1,  1,  1,  1,  1,  1,  1, -1, -1,  1, -1, -1, -1, -1,\n",
       "       -1,  1, -1,  1, -1, -1,  1, -1,  1,  1, -1, -1, -1, -1,  1, -1,  1,\n",
       "        1,  1, -1,  1,  1,  1, -1,  1,  1, -1, -1, -1, -1,  1, -1,  1,  1,\n",
       "        1,  1,  1, -1, -1,  1, -1,  1, -1, -1, -1,  1, -1,  1, -1,  1,  1,\n",
       "        1,  1, -1,  1,  1,  1, -1,  1, -1, -1,  1,  1, -1,  1, -1, -1,  1,\n",
       "        1, -1,  1, -1, -1, -1, -1,  1, -1,  1, -1,  1, -1,  1,  1, -1,  1,\n",
       "        1,  1,  1,  1, -1, -1,  1,  1,  1, -1, -1,  1,  1, -1, -1, -1, -1,\n",
       "        1, -1,  1, -1, -1, -1, -1, -1, -1, -1,  1, -1,  1, -1,  1,  1,  1,\n",
       "        1, -1,  1, -1, -1,  1, -1, -1,  1,  1, -1, -1,  1,  1,  1,  1,  1,\n",
       "       -1,  1,  1,  1, -1,  1, -1,  1,  1,  1,  1,  1, -1,  1, -1,  1,  1,\n",
       "        1,  1,  1,  1,  1,  1,  1,  1,  1, -1, -1,  1,  1,  1,  1, -1, -1,\n",
       "        1, -1,  1,  1,  1,  1, -1,  1, -1,  1, -1, -1,  1,  1,  1,  1,  1,\n",
       "       -1,  1,  1, -1,  1, -1,  1, -1,  1,  1,  1,  1,  1,  1,  1,  1,  1,\n",
       "        1,  1,  1, -1, -1, -1,  1, -1, -1, -1, -1,  1, -1, -1,  1,  1,  1,\n",
       "       -1, -1,  1, -1, -1, -1, -1,  1,  1,  1,  1,  1, -1, -1])"
      ]
     },
     "execution_count": 252,
     "metadata": {},
     "output_type": "execute_result"
    }
   ],
   "source": [
    "steps"
   ]
  },
  {
   "cell_type": "code",
   "execution_count": 253,
   "metadata": {},
   "outputs": [],
   "source": [
    "walk=steps.cumsum()"
   ]
  },
  {
   "cell_type": "code",
   "execution_count": 254,
   "metadata": {},
   "outputs": [
    {
     "data": {
      "text/plain": [
       "array([-1,  0,  1,  0, -1,  0,  1,  2,  1,  2,  1,  0,  1,  0,  1,  0, -1,\n",
       "        0,  1,  0, -1, -2, -1,  0,  1,  2,  3,  2,  3,  4,  5,  6,  5,  6,\n",
       "        5,  4,  3,  4,  5,  4,  3,  2,  1,  0, -1, -2, -3, -2, -1,  0,  1,\n",
       "        2,  3,  2,  3,  4,  3,  4,  5,  6,  5,  6,  5,  4,  5,  6,  7,  8,\n",
       "        7,  6,  7,  8,  7,  8,  7,  8,  9, 10, 11, 10, 11, 10,  9, 10, 11,\n",
       "       12, 13, 14, 15, 16, 15, 16, 17, 18, 17, 18, 19, 18, 17, 16, 15, 14,\n",
       "       15, 14, 13, 14, 13, 14, 15, 14, 15, 14, 15, 16, 15, 16, 15, 16, 15,\n",
       "       14, 15, 14, 15, 14, 13, 12, 11, 10, 11, 12, 13, 12, 11, 10,  9, 10,\n",
       "       11, 10, 11, 12, 13, 14, 13, 14, 13, 14, 13, 12, 13, 12, 11, 10, 11,\n",
       "       12, 11, 10,  9, 10,  9,  8,  7,  8,  9, 10, 11, 12, 13, 14, 15, 16,\n",
       "       17, 18, 19, 20, 21, 20, 21, 22, 23, 22, 21, 22, 23, 22, 23, 22, 23,\n",
       "       22, 21, 20, 19, 20, 21, 20, 19, 18, 17, 18, 19, 18, 17, 16, 17, 18,\n",
       "       19, 18, 19, 18, 19, 20, 19, 18, 19, 20, 21, 20, 19, 20, 19, 18, 17,\n",
       "       16, 15, 14, 15, 14, 13, 14, 13, 12, 13, 14, 15, 14, 13, 12, 11, 10,\n",
       "        9,  8,  7,  6,  5,  4,  3,  2,  3,  2,  1,  2,  1,  0,  1,  0, -1,\n",
       "       -2, -3, -2, -3, -2, -3, -2, -1, -2, -3, -2, -1, -2, -1, -2, -3, -4,\n",
       "       -5, -6, -7, -6, -7, -8, -7, -8, -7, -6, -5, -4, -3, -2, -1, -2, -3,\n",
       "       -4, -3, -2, -3, -4, -5, -6, -5, -6, -5, -6, -5, -4, -5, -4, -3, -4,\n",
       "       -3, -4, -3, -4, -3, -2, -3, -4, -5, -6, -5, -4, -5, -4, -3, -2, -1,\n",
       "       -2, -1,  0,  1,  2,  3,  2,  1,  0, -1,  0,  1,  0, -1,  0, -1,  0,\n",
       "        1,  0, -1,  0,  1,  2,  1,  2,  3,  2,  1,  2,  1,  2,  3,  4,  5,\n",
       "        4,  3,  4,  5,  4,  5,  6,  7,  8,  9, 10,  9,  8,  7,  8,  9, 10,\n",
       "       11, 12, 13, 12, 13, 12, 11, 12, 11, 12, 11, 12, 13, 12, 13, 14, 15,\n",
       "       16, 15, 16, 17, 16, 15, 16, 15, 14, 13, 14, 15, 14, 15, 16, 15, 16,\n",
       "       17, 18, 17, 18, 19, 20, 19, 20, 19, 20, 19, 20, 19, 18, 17, 16, 15,\n",
       "       16, 17, 16, 15, 16, 15, 14, 13, 14, 15, 14, 15, 16, 15, 14, 13, 14,\n",
       "       15, 14, 13, 14, 15, 14, 13, 14, 13, 14, 15, 14, 15, 14, 13, 14, 15,\n",
       "       14, 15, 16, 15, 16, 15, 16, 15, 16, 17, 16, 17, 16, 17, 16, 15, 14,\n",
       "       15, 16, 17, 16, 15, 14, 15, 14, 15, 16, 17, 16, 17, 18, 19, 18, 19,\n",
       "       18, 17, 16, 15, 16, 15, 16, 15, 16, 15, 14, 15, 14, 13, 14, 13, 14,\n",
       "       15, 16, 15, 16, 15, 16, 15, 14, 15, 14, 15, 16, 17, 16, 17, 16, 17,\n",
       "       16, 15, 16, 15, 14, 13, 14, 13, 12, 13, 12, 13, 14, 15, 16, 15, 16,\n",
       "       15, 16, 15, 16, 17, 18, 19, 18, 19, 18, 17, 16, 17, 16, 15, 14, 15,\n",
       "       16, 15, 14, 13, 12, 13, 12, 11, 10,  9, 10,  9, 10, 11, 10, 11, 12,\n",
       "       13, 14, 15, 16, 15, 14, 13, 14, 15, 16, 17, 16, 15, 14, 13, 14, 15,\n",
       "       14, 13, 14, 13, 14, 15, 14, 15, 14, 15, 16, 15, 14, 13, 12, 11, 12,\n",
       "       11, 10, 11, 12, 13, 12, 11, 10,  9, 10,  9, 10, 11, 10,  9, 10, 11,\n",
       "       10,  9, 10, 11, 12, 13, 14, 13, 12, 11, 12, 11, 12, 11, 10,  9,  8,\n",
       "        9, 10,  9,  8,  7,  8,  7,  6,  5,  6,  7,  8,  9,  8,  9,  8,  9,\n",
       "        8,  9,  8,  7,  6,  5,  6,  7,  8,  7,  8,  9, 10, 11, 10, 11, 12,\n",
       "       11, 12, 13, 14, 15, 16, 15, 14, 15, 16, 15, 14, 13, 14, 15, 16, 15,\n",
       "       14, 15, 14, 15, 16, 15, 14, 13, 14, 15, 14, 13, 12, 11, 12, 11, 12,\n",
       "       11, 10, 11, 12, 11, 10, 11, 10, 11, 12, 13, 12, 13, 14, 13, 12, 11,\n",
       "       10,  9, 10,  9,  8,  7,  6,  7,  6,  7,  6,  5,  4,  3,  2,  3,  2,\n",
       "        3,  4,  5,  4,  5,  6,  7,  8,  9, 10,  9,  8,  9,  8,  7,  6,  5,\n",
       "        4,  5,  4,  5,  4,  3,  4,  3,  4,  5,  4,  3,  2,  1,  2,  1,  2,\n",
       "        3,  4,  3,  4,  5,  6,  5,  6,  7,  6,  5,  4,  3,  4,  3,  4,  5,\n",
       "        6,  7,  8,  7,  6,  7,  6,  7,  6,  5,  4,  5,  4,  5,  4,  5,  6,\n",
       "        7,  8,  7,  8,  9, 10,  9, 10,  9,  8,  9, 10,  9, 10,  9,  8,  9,\n",
       "       10,  9, 10,  9,  8,  7,  6,  7,  6,  7,  6,  7,  6,  7,  8,  7,  8,\n",
       "        9, 10, 11, 12, 11, 10, 11, 12, 13, 12, 11, 12, 13, 12, 11, 10,  9,\n",
       "       10,  9, 10,  9,  8,  7,  6,  5,  4,  3,  4,  3,  4,  3,  4,  5,  6,\n",
       "        7,  6,  7,  6,  5,  6,  5,  4,  5,  6,  5,  4,  5,  6,  7,  8,  9,\n",
       "        8,  9, 10, 11, 10, 11, 10, 11, 12, 13, 14, 15, 14, 15, 14, 15, 16,\n",
       "       17, 18, 19, 20, 21, 22, 23, 24, 25, 24, 23, 24, 25, 26, 27, 26, 25,\n",
       "       26, 25, 26, 27, 28, 29, 28, 29, 28, 29, 28, 27, 28, 29, 30, 31, 32,\n",
       "       31, 32, 33, 32, 33, 32, 33, 32, 33, 34, 35, 36, 37, 38, 39, 40, 41,\n",
       "       42, 43, 44, 43, 42, 41, 42, 41, 40, 39, 38, 39, 38, 37, 38, 39, 40,\n",
       "       39, 38, 39, 38, 37, 36, 35, 36, 37, 38, 39, 40, 39, 38],\n",
       "      dtype=int32)"
      ]
     },
     "execution_count": 254,
     "metadata": {},
     "output_type": "execute_result"
    }
   ],
   "source": [
    "walk"
   ]
  },
  {
   "cell_type": "code",
   "execution_count": 255,
   "metadata": {},
   "outputs": [],
   "source": [
    "nwalks=5000"
   ]
  },
  {
   "cell_type": "code",
   "execution_count": 256,
   "metadata": {},
   "outputs": [],
   "source": [
    "nsteps=1000"
   ]
  },
  {
   "cell_type": "code",
   "execution_count": 257,
   "metadata": {},
   "outputs": [],
   "source": [
    "draws=np.random.randint(0,2,size=(nwalks,nsteps))"
   ]
  },
  {
   "cell_type": "code",
   "execution_count": 258,
   "metadata": {},
   "outputs": [
    {
     "data": {
      "text/plain": [
       "array([[0, 1, 0, ..., 1, 0, 1],\n",
       "       [1, 1, 0, ..., 1, 1, 0],\n",
       "       [0, 1, 1, ..., 0, 1, 0],\n",
       "       ...,\n",
       "       [0, 1, 1, ..., 1, 1, 0],\n",
       "       [0, 1, 1, ..., 0, 1, 0],\n",
       "       [1, 1, 1, ..., 1, 0, 1]])"
      ]
     },
     "execution_count": 258,
     "metadata": {},
     "output_type": "execute_result"
    }
   ],
   "source": [
    "draws"
   ]
  },
  {
   "cell_type": "code",
   "execution_count": 259,
   "metadata": {},
   "outputs": [],
   "source": [
    "steps=np.where(draws>0,1,-1)"
   ]
  },
  {
   "cell_type": "code",
   "execution_count": 261,
   "metadata": {},
   "outputs": [],
   "source": [
    "walks=steps.cumsum(1)"
   ]
  },
  {
   "cell_type": "code",
   "execution_count": 262,
   "metadata": {},
   "outputs": [
    {
     "data": {
      "text/plain": [
       "array([[ -1,   0,  -1, ...,  44,  43,  44],\n",
       "       [  1,   2,   1, ..., -48, -47, -48],\n",
       "       [ -1,   0,   1, ...,  14,  15,  14],\n",
       "       ...,\n",
       "       [ -1,   0,   1, ...,  10,  11,  10],\n",
       "       [ -1,   0,   1, ...,  28,  29,  28],\n",
       "       [  1,   2,   3, ...,   4,   3,   4]], dtype=int32)"
      ]
     },
     "execution_count": 262,
     "metadata": {},
     "output_type": "execute_result"
    }
   ],
   "source": [
    "walks"
   ]
  },
  {
   "cell_type": "code",
   "execution_count": null,
   "metadata": {},
   "outputs": [],
   "source": []
  }
 ],
 "metadata": {
  "kernelspec": {
   "display_name": "Python 3",
   "language": "python",
   "name": "python3"
  },
  "language_info": {
   "codemirror_mode": {
    "name": "ipython",
    "version": 3
   },
   "file_extension": ".py",
   "mimetype": "text/x-python",
   "name": "python",
   "nbconvert_exporter": "python",
   "pygments_lexer": "ipython3",
   "version": "3.7.3"
  }
 },
 "nbformat": 4,
 "nbformat_minor": 2
}
